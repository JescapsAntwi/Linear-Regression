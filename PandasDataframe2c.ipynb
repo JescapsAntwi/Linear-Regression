{
 "cells": [
  {
   "cell_type": "markdown",
   "metadata": {},
   "source": [
    "## Datetime indexing\n",
    "\n",
    "If observations in a dataset are provided with a date or time column, it is often convenient to index the data by that column. When the data is loaded from an external source like a file, the dates or times may be interpreted as strings by default. So we need to explicitly convert the column with dates and times into the `datetime` type:"
   ]
  },
  {
   "cell_type": "code",
   "execution_count": 1,
   "metadata": {},
   "outputs": [],
   "source": [
    "import pandas as pd\n",
    "import numpy as np\n",
    "%matplotlib inline"
   ]
  },
  {
   "cell_type": "code",
   "execution_count": 2,
   "metadata": {},
   "outputs": [
    {
     "data": {
      "text/html": [
       "<div>\n",
       "<style scoped>\n",
       "    .dataframe tbody tr th:only-of-type {\n",
       "        vertical-align: middle;\n",
       "    }\n",
       "\n",
       "    .dataframe tbody tr th {\n",
       "        vertical-align: top;\n",
       "    }\n",
       "\n",
       "    .dataframe thead th {\n",
       "        text-align: right;\n",
       "    }\n",
       "</style>\n",
       "<table border=\"1\" class=\"dataframe\">\n",
       "  <thead>\n",
       "    <tr style=\"text-align: right;\">\n",
       "      <th></th>\n",
       "      <th>data</th>\n",
       "    </tr>\n",
       "  </thead>\n",
       "  <tbody>\n",
       "    <tr>\n",
       "      <th>2018-01-01</th>\n",
       "      <td>5.3</td>\n",
       "    </tr>\n",
       "    <tr>\n",
       "      <th>2018-01-02</th>\n",
       "      <td>6.6</td>\n",
       "    </tr>\n",
       "    <tr>\n",
       "      <th>2018-01-03</th>\n",
       "      <td>7.1</td>\n",
       "    </tr>\n",
       "    <tr>\n",
       "      <th>2018-01-04</th>\n",
       "      <td>8.8</td>\n",
       "    </tr>\n",
       "    <tr>\n",
       "      <th>2018-01-05</th>\n",
       "      <td>7.6</td>\n",
       "    </tr>\n",
       "    <tr>\n",
       "      <th>2018-01-06</th>\n",
       "      <td>6.0</td>\n",
       "    </tr>\n",
       "  </tbody>\n",
       "</table>\n",
       "</div>"
      ],
      "text/plain": [
       "            data\n",
       "2018-01-01   5.3\n",
       "2018-01-02   6.6\n",
       "2018-01-03   7.1\n",
       "2018-01-04   8.8\n",
       "2018-01-05   7.6\n",
       "2018-01-06   6.0"
      ]
     },
     "execution_count": 2,
     "metadata": {},
     "output_type": "execute_result"
    }
   ],
   "source": [
    "data = {\n",
    "    '2018-01-01': 5.3,\n",
    "    '2018-01-02': 6.6,\n",
    "    '2018-01-03': 7.1,\n",
    "    '2018-01-04': 8.8,\n",
    "    '2018-01-05': 7.6,\n",
    "    '2018-01-06': 6.0\n",
    "}\n",
    "\n",
    "df = pd.DataFrame({'data': data})\n",
    "df"
   ]
  },
  {
   "cell_type": "markdown",
   "metadata": {},
   "source": [
    "A dataframe was created from the dictionary with the keys of the dictionary becoming the index of the dataframe.\n",
    "\n",
    "Let's check the variable type of the index:"
   ]
  },
  {
   "cell_type": "code",
   "execution_count": 3,
   "metadata": {},
   "outputs": [
    {
     "data": {
      "text/plain": [
       "Index(['2018-01-01', '2018-01-02', '2018-01-03', '2018-01-04', '2018-01-05',\n",
       "       '2018-01-06'],\n",
       "      dtype='object')"
      ]
     },
     "execution_count": 3,
     "metadata": {},
     "output_type": "execute_result"
    }
   ],
   "source": [
    "df.index"
   ]
  },
  {
   "cell_type": "markdown",
   "metadata": {},
   "source": [
    "The `dtype` value of the index is `object`, which is a default way to represent strings in Pandas.\n",
    "\n",
    "Now let's convert it to `datatime`. The `to_datetime` function takes a Series and returns a new Series object with its values converted to the `datatime` type. In doing that, the function automatically guesses the format in which dates (and times) are represented."
   ]
  },
  {
   "cell_type": "code",
   "execution_count": 4,
   "metadata": {},
   "outputs": [],
   "source": [
    "df.index = pd.to_datetime(df.index)"
   ]
  },
  {
   "cell_type": "code",
   "execution_count": 5,
   "metadata": {},
   "outputs": [
    {
     "data": {
      "text/plain": [
       "DatetimeIndex(['2018-01-01', '2018-01-02', '2018-01-03', '2018-01-04',\n",
       "               '2018-01-05', '2018-01-06'],\n",
       "              dtype='datetime64[ns]', freq=None)"
      ]
     },
     "execution_count": 5,
     "metadata": {},
     "output_type": "execute_result"
    }
   ],
   "source": [
    "df.index"
   ]
  },
  {
   "cell_type": "markdown",
   "metadata": {},
   "source": [
    "Now, the `dtype` of the index are shown as `datetime64[ns]`. From now on, the data can be easily manipulated in ways that takes the date and time information into account. For example, the data can be grouped by months or years. Or, we can plot the data, and the appropriate labels for the dates will be used in the plot:"
   ]
  },
  {
   "cell_type": "code",
   "execution_count": null,
   "metadata": {},
   "outputs": [],
   "source": [
    "df.plot()"
   ]
  },
  {
   "cell_type": "markdown",
   "metadata": {},
   "source": [
    "As you can see, the x-axis labels are conveniently shown as days, months and years."
   ]
  },
  {
   "cell_type": "markdown",
   "metadata": {},
   "source": [
    "Sometimes, however, the `to_datetime` method cannot guess the format in which dates are represented: the format can follow the European convention, but the function assumes the American format was used. For example:"
   ]
  },
  {
   "cell_type": "code",
   "execution_count": null,
   "metadata": {},
   "outputs": [],
   "source": [
    "# the dates are in the European format: 5th June, 6th June, 7th June\n",
    "data = {\n",
    "    '05-06-2019': 5.3,\n",
    "    '06-06-2019': 6.6,\n",
    "    '07-06-2019': 7.1\n",
    "}\n",
    "\n",
    "df = pd.DataFrame({'data': data})\n",
    "df.index = pd.to_datetime(df.index)\n",
    "\n",
    "# however, `to_datetime` guessed the dates to be 6th May, 6th June, 6th July\n",
    "df"
   ]
  },
  {
   "cell_type": "markdown",
   "metadata": {},
   "source": [
    "To deal with that, we can explicitly specify the string format by passing the `format` argument:"
   ]
  },
  {
   "cell_type": "code",
   "execution_count": null,
   "metadata": {},
   "outputs": [],
   "source": [
    "data = {\n",
    "    '05-06-2019': 5.3,\n",
    "    '06-06-2019': 6.6,\n",
    "    '07-06-2019': 7.1\n",
    "}\n",
    "\n",
    "df = pd.DataFrame({'data': data})\n",
    "\n",
    "# explicitly indicate the first comes the day, then month, then year\n",
    "df.index = pd.to_datetime(df.index, format=\"%d-%m-%Y\")\n",
    "\n",
    "df"
   ]
  },
  {
   "cell_type": "markdown",
   "metadata": {},
   "source": [
    "The dates in the index now appear as intended."
   ]
  }
 ],
 "metadata": {
  "kernelspec": {
   "display_name": "Python 3 (ipykernel)",
   "language": "python",
   "name": "python3"
  },
  "language_info": {
   "codemirror_mode": {
    "name": "ipython",
    "version": 3
   },
   "file_extension": ".py",
   "mimetype": "text/x-python",
   "name": "python",
   "nbconvert_exporter": "python",
   "pygments_lexer": "ipython3",
   "version": "3.10.5"
  }
 },
 "nbformat": 4,
 "nbformat_minor": 4
}
