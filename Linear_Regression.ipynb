{
  "nbformat": 4,
  "nbformat_minor": 0,
  "metadata": {
    "colab": {
      "provenance": []
    },
    "kernelspec": {
      "name": "python3",
      "display_name": "Python 3"
    },
    "language_info": {
      "name": "python"
    }
  },
  "cells": [
    {
      "cell_type": "code",
      "execution_count": null,
      "metadata": {
        "id": "1hAeD4PVRLxA"
      },
      "outputs": [],
      "source": [
        "import numpy as np"
      ]
    },
    {
      "cell_type": "code",
      "source": [
        "x_train = np.array([10,20,50,60,100])\n",
        "y_train = np.array([1000,1200,1500,1800,2000])"
      ],
      "metadata": {
        "id": "3F1reEWVRO0e"
      },
      "execution_count": null,
      "outputs": []
    },
    {
      "cell_type": "code",
      "source": [
        "print(f\"distance {x_train}\")\n",
        "print(f\"price {y_train}\")"
      ],
      "metadata": {
        "colab": {
          "base_uri": "https://localhost:8080/"
        },
        "id": "PvERP8OGRq-j",
        "outputId": "74c482e3-abe1-40bb-a955-4d9b54a63620"
      },
      "execution_count": null,
      "outputs": [
        {
          "output_type": "stream",
          "name": "stdout",
          "text": [
            "distance [ 10  20  50  60 100]\n",
            "price [1000 1200 1500 1800 2000]\n"
          ]
        }
      ]
    },
    {
      "cell_type": "code",
      "source": [
        "#y_hat = mx+c\n",
        "def predict(x,m,c):\n",
        "  out = np.zeros(x.shape[0])\n",
        "  for i in range(len(out)):\n",
        "    out[i] = m*x[i] + c\n",
        "  return out"
      ],
      "metadata": {
        "id": "16VtRCMhRvgW"
      },
      "execution_count": null,
      "outputs": []
    },
    {
      "cell_type": "code",
      "source": [
        "m = 15\n",
        "c = 800\n",
        "m = 50\n",
        "c =2\n",
        "hyp = predict(x_train,m,c)\n",
        "print(f\"hypothesised values {hyp}\")"
      ],
      "metadata": {
        "colab": {
          "base_uri": "https://localhost:8080/"
        },
        "id": "uBEUzO-PSDYS",
        "outputId": "57356589-7309-4254-e08b-338c10d1b275"
      },
      "execution_count": null,
      "outputs": [
        {
          "output_type": "stream",
          "name": "stdout",
          "text": [
            "hypothesised values [ 502. 1002. 2502. 3002. 5002.]\n"
          ]
        }
      ]
    },
    {
      "cell_type": "code",
      "source": [
        "import matplotlib.pyplot as plt"
      ],
      "metadata": {
        "id": "wBDFh4FrSNzT"
      },
      "execution_count": null,
      "outputs": []
    },
    {
      "cell_type": "code",
      "source": [
        "plt.scatter(x_train,y_train,marker = \"*\", color = \"r\")\n",
        "plt.plot(x_train,hyp,color = \"b\")\n",
        "plt.show()"
      ],
      "metadata": {
        "colab": {
          "base_uri": "https://localhost:8080/",
          "height": 430
        },
        "id": "5YoUH9_ISScg",
        "outputId": "447c7f63-ec4c-4d5a-8d95-f83d336ccf37"
      },
      "execution_count": null,
      "outputs": [
        {
          "output_type": "display_data",
          "data": {
            "text/plain": [
              "<Figure size 640x480 with 1 Axes>"
            ],
            "image/png": "[encoded data removed]"
          },
          "metadata": {}
        }
      ]
    },
    {
      "cell_type": "code",
      "source": [
        "def cost(y,y_hat):\n",
        "  costs = np.zeros(y.shape[0])\n",
        "  for i in range (len(costs)):\n",
        "    costs[i] = (y[i] - y_hat[i])**2\n",
        "  return sum(costs)/(2*len(costs))"
      ],
      "metadata": {
        "id": "0xFWv84ZSdHm"
      },
      "execution_count": null,
      "outputs": []
    },
    {
      "cell_type": "code",
      "source": [
        "cost(y_train,hyp)"
      ],
      "metadata": {
        "colab": {
          "base_uri": "https://localhost:8080/"
        },
        "id": "Yti_zd5HS3Bs",
        "outputId": "b7f2fc72-665b-422a-f636-e843ad83eb18"
      },
      "execution_count": null,
      "outputs": [
        {
          "output_type": "execute_result",
          "data": {
            "text/plain": [
              "1174802.0"
            ]
          },
          "metadata": {},
          "execution_count": 38
        }
      ]
    },
    {
      "cell_type": "code",
      "source": [
        "#w = w-a\n",
        "def p_d(y,x,m,c):\n",
        "  error_m = np.zeros(y.shape[0])\n",
        "  error_c = np.zeros(y.shape[0])\n",
        "  dj_dm = 0\n",
        "  dj_dc = 0\n",
        "  y_hat = predict(x,m,c)\n",
        "  for i in range (error_m.shape[0]):\n",
        "    error_m[i] = (-y[i] + y_hat[i])*x[i]\n",
        "    error_c[i] = (-y[i] + y_hat[i])*x[i]\n",
        "  # print(f\"errorc {error_c}\")\n",
        "  # print(f\"errorm {error_m}\")\n",
        "  dj_dm = sum(error_m)/len(error_m)\n",
        "  dj_dc = sum(error_c)/len(error_c)\n",
        "\n",
        "  return dj_dm,dj_dc\n",
        "\n",
        "p_d(y_train,x_train,m,c)\n",
        "\n",
        "def grad_des(y_train,x_train,m,c):\n",
        "  a = .001\n",
        "  m = m\n",
        "  c = c\n",
        "  for i in range(100):\n",
        "    dj_dm,dj_dc = p_d(y_train,x_train,m,c)\n",
        "    m = m - a*dj_dm\n",
        "    c = c - a*dj_dc\n",
        "    print(f\"cost {cost(y_train,predict(x_train,m,c))}\")\n",
        "  return m,c\n",
        "m,c = grad_des(y_train,x_train,m,c)"
      ],
      "metadata": {
        "colab": {
          "base_uri": "https://localhost:8080/",
          "height": 211
        },
        "id": "Fab__RCbS9LE",
        "outputId": "fa4a0b40-bf04-4112-9121-a9762820c829"
      },
      "execution_count": null,
      "outputs": [
        {
          "output_type": "error",
          "ename": "NameError",
          "evalue": "name 'y_train' is not defined",
          "traceback": [
            "\u001b[0;31m---------------------------------------------------------------------------\u001b[0m",
            "\u001b[0;31mNameError\u001b[0m                                 Traceback (most recent call last)",
            "\u001b[0;32m<ipython-input-1-51873a0621e6>\u001b[0m in \u001b[0;36m<cell line: 0>\u001b[0;34m()\u001b[0m\n\u001b[1;32m     16\u001b[0m   \u001b[0;32mreturn\u001b[0m \u001b[0mdj_dm\u001b[0m\u001b[0;34m,\u001b[0m\u001b[0mdj_dc\u001b[0m\u001b[0;34m\u001b[0m\u001b[0;34m\u001b[0m\u001b[0m\n\u001b[1;32m     17\u001b[0m \u001b[0;34m\u001b[0m\u001b[0m\n\u001b[0;32m---> 18\u001b[0;31m \u001b[0mp_d\u001b[0m\u001b[0;34m(\u001b[0m\u001b[0my_train\u001b[0m\u001b[0;34m,\u001b[0m\u001b[0mx_train\u001b[0m\u001b[0;34m,\u001b[0m\u001b[0mm\u001b[0m\u001b[0;34m,\u001b[0m\u001b[0mc\u001b[0m\u001b[0;34m)\u001b[0m\u001b[0;34m\u001b[0m\u001b[0;34m\u001b[0m\u001b[0m\n\u001b[0m\u001b[1;32m     19\u001b[0m \u001b[0;32mdef\u001b[0m \u001b[0mgrad_des\u001b[0m\u001b[0;34m(\u001b[0m\u001b[0my_train\u001b[0m\u001b[0;34m,\u001b[0m\u001b[0mx_train\u001b[0m\u001b[0;34m,\u001b[0m\u001b[0mm\u001b[0m\u001b[0;34m,\u001b[0m\u001b[0mc\u001b[0m\u001b[0;34m)\u001b[0m\u001b[0;34m:\u001b[0m\u001b[0;34m\u001b[0m\u001b[0;34m\u001b[0m\u001b[0m\n\u001b[1;32m     20\u001b[0m   \u001b[0ma\u001b[0m \u001b[0;34m=\u001b[0m \u001b[0;36m.001\u001b[0m\u001b[0;34m\u001b[0m\u001b[0;34m\u001b[0m\u001b[0m\n",
            "\u001b[0;31mNameError\u001b[0m: name 'y_train' is not defined"
          ]
        }
      ]
    },
    {
      "cell_type": "code",
      "source": [
        "print(f\"m {m}\")\n",
        "print(f\"c {c}\")"
      ],
      "metadata": {
        "colab": {
          "base_uri": "https://localhost:8080/"
        },
        "id": "st_CNB24dIE_",
        "outputId": "2ebcb55c-e5fd-4ed3-a722-b75d82a50d68"
      },
      "execution_count": null,
      "outputs": [
        {
          "output_type": "stream",
          "name": "stdout",
          "text": [
            "m nan\n",
            "c nan\n"
          ]
        }
      ]
    },
    {
      "cell_type": "code",
      "source": [],
      "metadata": {
        "id": "Ptpzsl70dZF6"
      },
      "execution_count": null,
      "outputs": []
    }
  ]
}