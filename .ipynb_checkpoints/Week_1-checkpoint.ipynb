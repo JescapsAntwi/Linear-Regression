{
 "cells": [
  {
   "cell_type": "code",
   "execution_count": 12,
   "id": "1bdc8355-f53f-4616-809b-086e914034e4",
   "metadata": {},
   "outputs": [],
   "source": [
    "import numpy as np \n",
    "import time"
   ]
  },
  {
   "cell_type": "code",
   "execution_count": 18,
   "id": "207eee4f-c327-48d5-8884-b95717de2062",
   "metadata": {},
   "outputs": [],
   "source": [
    "size = 1000000\n"
   ]
  },
  {
   "cell_type": "code",
   "execution_count": 19,
   "id": "5a72db78-1216-4d7f-b9f7-16dfb2d761b5",
   "metadata": {},
   "outputs": [],
   "source": [
    "lst1 = range(size)\n",
    "lst2 = range(size)\n"
   ]
  },
  {
   "cell_type": "code",
   "execution_count": 20,
   "id": "73655d66-47d0-410e-a591-65e153d565cc",
   "metadata": {},
   "outputs": [],
   "source": [
    "nparr1 = np.arange(size)\n",
    "nparr2 = np.arange(size)\n"
   ]
  },
  {
   "cell_type": "code",
   "execution_count": 21,
   "id": "d12f7bfa-f9dc-4f3c-9cae-abb62f6c6651",
   "metadata": {},
   "outputs": [
    {
     "name": "stdout",
     "output_type": "stream",
     "text": [
      "sum of lists : \n",
      "1002.1169185638428\n"
     ]
    }
   ],
   "source": [
    "lst_time = time.time()\n",
    "list_sum = [(x + y) for x, y in zip(lst1, lst2)]\n",
    "print(\"sum of lists : \")\n",
    "print((time.time() - lst_time) * 1000)"
   ]
  },
  {
   "cell_type": "code",
   "execution_count": 22,
   "id": "30af0428-19b7-43fa-88ca-d10a6a27dfdf",
   "metadata": {},
   "outputs": [
    {
     "ename": "NameError",
     "evalue": "name 'np_time' is not defined",
     "output_type": "error",
     "traceback": [
      "\u001b[1;31m---------------------------------------------------------------------------\u001b[0m",
      "\u001b[1;31mNameError\u001b[0m                                 Traceback (most recent call last)",
      "Cell \u001b[1;32mIn[22], line 1\u001b[0m\n\u001b[1;32m----> 1\u001b[0m \u001b[43mnp_time\u001b[49m\n",
      "\u001b[1;31mNameError\u001b[0m: name 'np_time' is not defined"
     ]
    }
   ],
   "source": [
    "np_time"
   ]
  },
  {
   "cell_type": "code",
   "execution_count": null,
   "id": "55537d26-6dc9-480d-80ce-60cb117265d6",
   "metadata": {},
   "outputs": [],
   "source": []
  }
 ],
 "metadata": {
  "kernelspec": {
   "display_name": "Python 3 (ipykernel)",
   "language": "python",
   "name": "python3"
  },
  "language_info": {
   "codemirror_mode": {
    "name": "ipython",
    "version": 3
   },
   "file_extension": ".py",
   "mimetype": "text/x-python",
   "name": "python",
   "nbconvert_exporter": "python",
   "pygments_lexer": "ipython3",
   "version": "3.10.5"
  }
 },
 "nbformat": 4,
 "nbformat_minor": 5
}
