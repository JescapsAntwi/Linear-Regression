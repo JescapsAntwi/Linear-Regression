{
 "cells": [
  {
   "cell_type": "markdown",
   "metadata": {},
   "source": [
    "## Why Pandas?\n",
    "\n",
    "In many real-world analytics projects, the data exists in the tabular format, that is, each observation is recorded in a row and different attributes of the observation are recorded in columns. Data analysts have been traditionally using software that manipulates data in this format, such as Excel, Stata or SPSS. [Pandas](https://pandas.pydata.org/), a Python library for data analysis, similarly represents data in the form of a spreadsheet, but in comparison to applications like Excel or Stata, data manipulation can be much more varied, it can programmed more easily and performed more efficiently, which is critical in large-scale projects.\n",
    "\n",
    "Pandas is a high-level library in the sense that it is built on-top of NumPy. In effect, Pandas is a set of tools that makes it easier to use NumPy to work with real-world datasets: load data from a variety of sources (files or databases), clean the data (for example, remove duplicates and rows with missing values), select subsets of the data, group and visualize the data, perform statistical analysis of the data and export the data to other file formats or databases.\n",
    "\n",
    "Like NumPy, Pandas is part of the Anaconda distribution of Python, and it should already be installed on your computer if you installed Anaconda. Otherwise, Pandas can be installed using the \"[pip](https://realpython.com/what-is-pip/)\" command (if you are using the standard Python distribution) or \"[conda](https://docs.conda.io/en/latest/)\" (if you are using Anaconda).\n",
    "\n",
    "The two main data structures in Pandas are a DataFrame (equivalent to a spreadsheet in Excel) and a Series (equivalent to a column in a spreadsheet).\n",
    "\n",
    "If Pandas is used inside a Jupyter notebook (this is the most common case), one normally imports pandas (the `pd` alias is usually used to save on typing), numpy (with the `np` alias), and the \"magic\" command `%matplotlib inline` is run, in order to enable displaying of matplotlib plots right in the notebook."
   ]
  },
  {
   "cell_type": "code",
   "execution_count": 1,
   "metadata": {
    "ExecuteTime": {
     "end_time": "2021-11-29T08:36:29.906227Z",
     "start_time": "2021-11-29T08:36:29.270547Z"
    }
   },
   "outputs": [],
   "source": [
    "import pandas as pd\n",
    "import numpy as np"
   ]
  },
  {
   "cell_type": "markdown",
   "metadata": {},
   "source": [
    "## Series\n",
    "\n",
    "A Series in Pandas is effectively a column of a spreadsheet. For example, if we have a spreadsheet with students' grades in different subjects, a Series can encode grades of all students in a particular subject.\n",
    "\n",
    "Let's create a Series object. We need to instantiate an object of the class Series and pass a Python list with values to it."
   ]
  },
  {
   "cell_type": "code",
   "execution_count": 2,
   "metadata": {
    "ExecuteTime": {
     "end_time": "2021-11-29T08:36:29.912478Z",
     "start_time": "2021-11-29T08:36:29.906227Z"
    }
   },
   "outputs": [],
   "source": [
    "s = pd.Series([65.1, 50.5, 83.0, 72.4])"
   ]
  },
  {
   "cell_type": "code",
   "execution_count": 3,
   "metadata": {
    "ExecuteTime": {
     "end_time": "2021-11-29T08:36:29.931490Z",
     "start_time": "2021-11-29T08:36:29.914444Z"
    }
   },
   "outputs": [
    {
     "data": {
      "text/plain": [
       "0    65.1\n",
       "1    50.5\n",
       "2    83.0\n",
       "3    72.4\n",
       "dtype: float64"
      ]
     },
     "execution_count": 3,
     "metadata": {},
     "output_type": "execute_result"
    }
   ],
   "source": [
    "# let's print it\n",
    "s"
   ]
  },
  {
   "cell_type": "markdown",
   "metadata": {},
   "source": [
    "As you can see, a Series object includes the values we passed as well as an index - here, the index is a range of integers from 0 to 3, similarly to the index in Python lists and NumPy arrays. We can access the index and the values separately:"
   ]
  },
  {
   "cell_type": "code",
   "execution_count": 4,
   "metadata": {
    "ExecuteTime": {
     "end_time": "2021-11-29T08:36:29.943522Z",
     "start_time": "2021-11-29T08:36:29.933494Z"
    }
   },
   "outputs": [
    {
     "data": {
      "text/plain": [
       "RangeIndex(start=0, stop=4, step=1)"
      ]
     },
     "execution_count": 4,
     "metadata": {},
     "output_type": "execute_result"
    }
   ],
   "source": [
    "s.index"
   ]
  },
  {
   "cell_type": "code",
   "execution_count": 5,
   "metadata": {
    "ExecuteTime": {
     "end_time": "2021-11-29T08:36:29.960763Z",
     "start_time": "2021-11-29T08:36:29.944523Z"
    }
   },
   "outputs": [
    {
     "data": {
      "text/plain": [
       "array([65.1, 50.5, 83. , 72.4])"
      ]
     },
     "execution_count": 5,
     "metadata": {},
     "output_type": "execute_result"
    }
   ],
   "source": [
    "s.values"
   ]
  },
  {
   "cell_type": "markdown",
   "metadata": {},
   "source": [
    "You will notice that the values are in fact a NumPy array.\n",
    "\n",
    "We can pass our custom index when we create a Series, and we can specify the name of the series."
   ]
  },
  {
   "cell_type": "code",
   "execution_count": 6,
   "metadata": {
    "ExecuteTime": {
     "end_time": "2021-11-29T08:36:29.979826Z",
     "start_time": "2021-11-29T08:36:29.962769Z"
    }
   },
   "outputs": [
    {
     "data": {
      "text/plain": [
       "Joe     65.1\n",
       "Emma    50.5\n",
       "Max     83.0\n",
       "Lucy    72.4\n",
       "Name: Maths, dtype: float64"
      ]
     },
     "execution_count": 6,
     "metadata": {},
     "output_type": "execute_result"
    }
   ],
   "source": [
    "s = pd.Series([65.1, 50.5, 83.0, 72.4],\n",
    "             index=[\"Joe\", \"Emma\", \"Max\", \"Lucy\"],\n",
    "             name=\"Maths\")\n",
    "s"
   ]
  },
  {
   "cell_type": "markdown",
   "metadata": {},
   "source": [
    "Here, we use strings as the index for the values."
   ]
  },
  {
   "cell_type": "markdown",
   "metadata": {},
   "source": [
    "We can create a Series also from a Python dictionary:"
   ]
  },
  {
   "cell_type": "code",
   "execution_count": 7,
   "metadata": {
    "ExecuteTime": {
     "end_time": "2021-11-29T08:36:29.997441Z",
     "start_time": "2021-11-29T08:36:29.983332Z"
    }
   },
   "outputs": [
    {
     "data": {
      "text/plain": [
       "California    38332521\n",
       "Texas         26448193\n",
       "New York      19651127\n",
       "Florida       19552860\n",
       "Illinois      12882135\n",
       "dtype: int64"
      ]
     },
     "execution_count": 7,
     "metadata": {},
     "output_type": "execute_result"
    }
   ],
   "source": [
    "population = {'California': 38332521,\n",
    "              'Texas': 26448193,\n",
    "              'New York': 19651127,\n",
    "              'Florida': 19552860,\n",
    "              'Illinois': 12882135}\n",
    "s = pd.Series(population)\n",
    "s"
   ]
  },
  {
   "cell_type": "markdown",
   "metadata": {},
   "source": [
    "The keys in the dictionary become the index, and the values - the values of the Series object.\n",
    "\n",
    "Now that we have created a Series, we can use the index to look up specific values in the series. We can do that by using the integer index (similar to indexing a list or an array) or by the string index (similar to retrieving a values by key from a dictionary):"
   ]
  },
  {
   "cell_type": "code",
   "execution_count": 8,
   "metadata": {
    "ExecuteTime": {
     "end_time": "2021-11-29T08:36:30.010430Z",
     "start_time": "2021-11-29T08:36:29.999398Z"
    }
   },
   "outputs": [
    {
     "data": {
      "text/plain": [
       "26448193"
      ]
     },
     "execution_count": 8,
     "metadata": {},
     "output_type": "execute_result"
    }
   ],
   "source": [
    "s[1]"
   ]
  },
  {
   "cell_type": "code",
   "execution_count": 9,
   "metadata": {
    "ExecuteTime": {
     "end_time": "2021-11-29T08:36:30.026513Z",
     "start_time": "2021-11-29T08:36:30.012435Z"
    }
   },
   "outputs": [
    {
     "data": {
      "text/plain": [
       "26448193"
      ]
     },
     "execution_count": 9,
     "metadata": {},
     "output_type": "execute_result"
    }
   ],
   "source": [
    "s['Texas']"
   ]
  },
  {
   "cell_type": "markdown",
   "metadata": {},
   "source": [
    "We can use the index to select a subset of values, using syntax that is similar to slicing a list or an array:"
   ]
  },
  {
   "cell_type": "code",
   "execution_count": 10,
   "metadata": {
    "ExecuteTime": {
     "end_time": "2021-11-29T08:36:30.042513Z",
     "start_time": "2021-11-29T08:36:30.029480Z"
    }
   },
   "outputs": [
    {
     "data": {
      "text/plain": [
       "Texas       26448193\n",
       "New York    19651127\n",
       "dtype: int64"
      ]
     },
     "execution_count": 10,
     "metadata": {},
     "output_type": "execute_result"
    }
   ],
   "source": [
    "s[1:3]"
   ]
  },
  {
   "cell_type": "code",
   "execution_count": 11,
   "metadata": {
    "ExecuteTime": {
     "end_time": "2021-11-29T08:36:30.059560Z",
     "start_time": "2021-11-29T08:36:30.044521Z"
    }
   },
   "outputs": [
    {
     "data": {
      "text/plain": [
       "Texas       26448193\n",
       "New York    19651127\n",
       "Florida     19552860\n",
       "dtype: int64"
      ]
     },
     "execution_count": 11,
     "metadata": {},
     "output_type": "execute_result"
    }
   ],
   "source": [
    "s['Texas':'Florida']"
   ]
  },
  {
   "cell_type": "markdown",
   "metadata": {},
   "source": [
    "A mathematical operation can be applied to a Series object, in the same way as to a NumPy array. Let's convert the population values to millions:"
   ]
  },
  {
   "cell_type": "code",
   "execution_count": 12,
   "metadata": {
    "ExecuteTime": {
     "end_time": "2021-11-29T08:36:30.075105Z",
     "start_time": "2021-11-29T08:36:30.062567Z"
    }
   },
   "outputs": [
    {
     "data": {
      "text/plain": [
       "California    38.332521\n",
       "Texas         26.448193\n",
       "New York      19.651127\n",
       "Florida       19.552860\n",
       "Illinois      12.882135\n",
       "dtype: float64"
      ]
     },
     "execution_count": 12,
     "metadata": {},
     "output_type": "execute_result"
    }
   ],
   "source": [
    "s = s/10**6\n",
    "s"
   ]
  },
  {
   "cell_type": "markdown",
   "metadata": {},
   "source": [
    "Similar to a NumPy array, we can use methods of the Series to find out the sum of the values, their mean, standard deviation, etc:"
   ]
  },
  {
   "cell_type": "code",
   "execution_count": 13,
   "metadata": {
    "ExecuteTime": {
     "end_time": "2021-11-29T08:36:30.089644Z",
     "start_time": "2021-11-29T08:36:30.076608Z"
    }
   },
   "outputs": [
    {
     "data": {
      "text/plain": [
       "116.866836"
      ]
     },
     "execution_count": 13,
     "metadata": {},
     "output_type": "execute_result"
    }
   ],
   "source": [
    "s.sum()"
   ]
  },
  {
   "cell_type": "code",
   "execution_count": 14,
   "metadata": {
    "ExecuteTime": {
     "end_time": "2021-11-29T08:36:30.100680Z",
     "start_time": "2021-11-29T08:36:30.092659Z"
    }
   },
   "outputs": [
    {
     "data": {
      "text/plain": [
       "23.3733672"
      ]
     },
     "execution_count": 14,
     "metadata": {},
     "output_type": "execute_result"
    }
   ],
   "source": [
    "s.mean()"
   ]
  },
  {
   "cell_type": "code",
   "execution_count": 15,
   "metadata": {
    "ExecuteTime": {
     "end_time": "2021-11-29T08:36:30.116730Z",
     "start_time": "2021-11-29T08:36:30.102687Z"
    }
   },
   "outputs": [
    {
     "data": {
      "text/plain": [
       "9.64038558044315"
      ]
     },
     "execution_count": 15,
     "metadata": {},
     "output_type": "execute_result"
    }
   ],
   "source": [
    "s.std()"
   ]
  },
  {
   "cell_type": "code",
   "execution_count": null,
   "metadata": {},
   "outputs": [],
   "source": []
  }
 ],
 "metadata": {
  "kernelspec": {
   "display_name": "Python 3 (ipykernel)",
   "language": "python",
   "name": "python3"
  },
  "language_info": {
   "codemirror_mode": {
    "name": "ipython",
    "version": 3
   },
   "file_extension": ".py",
   "mimetype": "text/x-python",
   "name": "python",
   "nbconvert_exporter": "python",
   "pygments_lexer": "ipython3",
   "version": "3.9.7"
  },
  "toc": {
   "base_numbering": 1,
   "nav_menu": {},
   "number_sections": true,
   "sideBar": true,
   "skip_h1_title": false,
   "title_cell": "Table of Contents",
   "title_sidebar": "Contents",
   "toc_cell": false,
   "toc_position": {},
   "toc_section_display": true,
   "toc_window_display": false
  }
 },
 "nbformat": 4,
 "nbformat_minor": 2
}
