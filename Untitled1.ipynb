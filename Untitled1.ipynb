{
 "cells": [
  {
   "cell_type": "code",
   "execution_count": 3,
   "id": "518c1114-a2dc-462d-9ca4-b27a80fd3fa7",
   "metadata": {},
   "outputs": [],
   "source": [
    "import numpy as np "
   ]
  },
  {
   "cell_type": "code",
   "execution_count": 4,
   "id": "a6d71fe3-4779-4084-95f8-c67b8e968398",
   "metadata": {},
   "outputs": [],
   "source": [
    "x_train = np.array([10, 20, 50, 60, 100])\n",
    "y_train = np.array([1000, 1200, 1500, 1600, 2000])"
   ]
  },
  {
   "cell_type": "code",
   "execution_count": 5,
   "id": "730cbc62-c163-44c3-99a0-815774c1f93c",
   "metadata": {},
   "outputs": [
    {
     "name": "stdout",
     "output_type": "stream",
     "text": [
      "distance: [ 10  20  50  60 100]\n",
      "price: [1000 1200 1500 1600 2000]\n"
     ]
    }
   ],
   "source": [
    "print(f\"distance: {x_train}\")\n",
    "print(f\"price: {y_train}\")"
   ]
  },
  {
   "cell_type": "code",
   "execution_count": 10,
   "id": "ba9a8852-7643-4a23-b99e-493a6feb1ced",
   "metadata": {},
   "outputs": [],
   "source": [
    "#y_hat = wx + b\n",
    "def hypothesis (w,x, b):\n",
    "    m = x_train.shape[0]\n",
    "    y_hat = np.zeros(m)\n",
    "    for i in range(m):\n",
    "        y_hat[i] = w *x[i] + b\n",
    "    return y_hat "
   ]
  },
  {
   "cell_type": "code",
   "execution_count": 11,
   "id": "c6996619-99de-4e7a-840f-5760f2ecac1d",
   "metadata": {},
   "outputs": [
    {
     "data": {
      "text/plain": [
       "array([ 502., 1002., 2502., 3002., 5002.])"
      ]
     },
     "execution_count": 11,
     "metadata": {},
     "output_type": "execute_result"
    }
   ],
   "source": [
    "w = 50\n",
    "b = 2\n",
    "hyp = hypothesis(w, x_train, b)\n",
    "hyp"
   ]
  },
  {
   "cell_type": "code",
   "execution_count": 8,
   "id": "e615a28c-de91-4662-a977-46ece442138a",
   "metadata": {},
   "outputs": [],
   "source": [
    "import matplotlib.pyplot as plt"
   ]
  },
  {
   "cell_type": "code",
   "execution_count": null,
   "id": "e667763a-b5f2-44c5-ad4f-425da35f2480",
   "metadata": {},
   "outputs": [],
   "source": [
    "plt.scatter(x_train, y_train, marker = 'x', color = 'r')\n"
   ]
  }
 ],
 "metadata": {
  "kernelspec": {
   "display_name": "Python 3 (ipykernel)",
   "language": "python",
   "name": "python3"
  },
  "language_info": {
   "codemirror_mode": {
    "name": "ipython",
    "version": 3
   },
   "file_extension": ".py",
   "mimetype": "text/x-python",
   "name": "python",
   "nbconvert_exporter": "python",
   "pygments_lexer": "ipython3",
   "version": "3.10.5"
  }
 },
 "nbformat": 4,
 "nbformat_minor": 5
}
