{
  "cells": [
    {
      "cell_type": "markdown",
      "metadata": {
        "id": "gfqgsjse3tKW"
      },
      "source": [
        "\n",
        "## LAB REPORT 1 Description of Assignment:\n",
        "\n",
        "For this lab report, you will be working with the titanic ml dadataset. You would use this dataset to learn to wrangle dataframes.\n",
        "\n",
        "\n",
        "## Data Description/Challenges:\n",
        "\n",
        "The sinking of the Titanic is one of the most infamous shipwrecks in history.\n",
        "On April $15$, $1912$, during her maiden voyage, the widely considered “unsinkable” RMS Titanic sank after colliding with an iceberg. Unfortunately, there weren’t enough lifeboats for everyone onboard, resulting in the death of $1502$ out of $2224$ passengers and crew.\n",
        "\n",
        "In this challenge, you are tasked to do some wrangling on the data and find ways to understand the data a bit more. This aassignment is due Thursday, January 30, 2025\n"
      ]
    },
    {
      "cell_type": "markdown",
      "metadata": {
        "id": "8Tl0M0pb3tKj"
      },
      "source": [
        "#### 1. import the necessary libraries"
      ]
    },
    {
      "cell_type": "code",
      "source": [
        "import pandas as pd"
      ],
      "metadata": {
        "id": "0i6gGkM8305r"
      },
      "execution_count": null,
      "outputs": []
    },
    {
      "cell_type": "markdown",
      "metadata": {
        "id": "_f4Q_pvs3tKl"
      },
      "source": [
        "#### 1. import the necessary libraries"
      ]
    },
    {
      "cell_type": "markdown",
      "metadata": {
        "jp-MarkdownHeadingCollapsed": true,
        "id": "v6Zn04U-3tKn"
      },
      "source": [
        "#### 2.  Load the train data in a variable name called \"train\""
      ]
    },
    {
      "cell_type": "code",
      "source": [
        "train = pd.read_csv(\"/content/test.csv\")"
      ],
      "metadata": {
        "id": "eZDVD-kg4ByW"
      },
      "execution_count": null,
      "outputs": []
    },
    {
      "cell_type": "markdown",
      "metadata": {
        "id": "6BGRp5Nj3tKo"
      },
      "source": [
        "#### 3.  Load the test data in a variable name called \"test\""
      ]
    },
    {
      "cell_type": "code",
      "source": [
        "test = pd.read_csv(\"/content/test.csv\")"
      ],
      "metadata": {
        "id": "rQBaHLeD4epo"
      },
      "execution_count": null,
      "outputs": []
    },
    {
      "cell_type": "markdown",
      "metadata": {
        "id": "SmYhyvnD3tKq"
      },
      "source": [
        "#### 4.  Check the shape of the train and test data"
      ]
    },
    {
      "cell_type": "code",
      "source": [
        "print(\"Shape of the test data:\", test.shape)"
      ],
      "metadata": {
        "colab": {
          "base_uri": "https://localhost:8080/"
        },
        "id": "7f4WFczh8cgr",
        "outputId": "a4e8e329-24d0-4b71-c84b-5e076faceb31"
      },
      "execution_count": null,
      "outputs": [
        {
          "output_type": "stream",
          "name": "stdout",
          "text": [
            "Shape of the test data: (418, 11)\n"
          ]
        }
      ]
    },
    {
      "cell_type": "code",
      "source": [
        "print(\"Shape of the train data:\", train.shape)"
      ],
      "metadata": {
        "colab": {
          "base_uri": "https://localhost:8080/"
        },
        "id": "pSL5sf-I4nqp",
        "outputId": "84838e63-6ee7-4620-cfc6-ceb749b5a804"
      },
      "execution_count": null,
      "outputs": [
        {
          "output_type": "stream",
          "name": "stdout",
          "text": [
            "Shape of the train data: (418, 11)\n"
          ]
        }
      ]
    },
    {
      "cell_type": "markdown",
      "metadata": {
        "id": "601rEAao3tKr"
      },
      "source": [
        "#### 5.  Comment on how many rows and columns the train and test data both have"
      ]
    },
    {
      "cell_type": "code",
      "source": [
        "#Rows and Columns of the train data\n",
        "print(\"Rows of the train data:\", train.shape[0])\n",
        "\n",
        "#Columns of the train data\n",
        "print(\"Columns of the train data:\", train.shape[1])\n"
      ],
      "metadata": {
        "colab": {
          "base_uri": "https://localhost:8080/"
        },
        "id": "jqYoXUUw9EH7",
        "outputId": "91634271-8b48-4644-fdf1-3da31906c423"
      },
      "execution_count": null,
      "outputs": [
        {
          "output_type": "stream",
          "name": "stdout",
          "text": [
            "Rows of the train data: 418\n",
            "Columns of the train data: 11\n"
          ]
        }
      ]
    },
    {
      "cell_type": "code",
      "source": [
        "#Rows and Columns of the test data\n",
        "print(\"Rows of the test data:\", test.shape[0])\n",
        "\n",
        "#Columns of the test data\n",
        "print(\"Columns of the test data:\", test.shape[1])"
      ],
      "metadata": {
        "colab": {
          "base_uri": "https://localhost:8080/"
        },
        "id": "vztSU4u39zLN",
        "outputId": "ab864ca5-e2e8-40f7-aaa9-37d40f695346"
      },
      "execution_count": null,
      "outputs": [
        {
          "output_type": "stream",
          "name": "stdout",
          "text": [
            "Rows of the test data: 418\n",
            "Columns of the test data: 11\n"
          ]
        }
      ]
    },
    {
      "cell_type": "markdown",
      "source": [
        "The train data has 418 rows and 11 columns\n",
        "\n",
        "The test data has 418 rows and 11 columns"
      ],
      "metadata": {
        "id": "sUgGHUWRLhX4"
      }
    },
    {
      "cell_type": "markdown",
      "metadata": {
        "id": "8PxeRoIu3tKt"
      },
      "source": [
        "#### 6.  Check the last 5 rows of the train and test data respectively."
      ]
    },
    {
      "cell_type": "code",
      "source": [
        "#Checking the last 5 rows of the train data\n",
        "train.tail(5)"
      ],
      "metadata": {
        "colab": {
          "base_uri": "https://localhost:8080/",
          "height": 206
        },
        "id": "HT6Ld47uMLAV",
        "outputId": "170cc4ef-405b-456e-d36d-d1c8e9ea1720"
      },
      "execution_count": null,
      "outputs": [
        {
          "output_type": "execute_result",
          "data": {
            "text/plain": [
              "     PassengerId  Pclass                          Name     Sex   Age  SibSp  \\\n",
              "413         1305       3            Spector, Mr. Woolf    male   NaN      0   \n",
              "414         1306       1  Oliva y Ocana, Dona. Fermina  female  39.0      0   \n",
              "415         1307       3  Saether, Mr. Simon Sivertsen    male  38.5      0   \n",
              "416         1308       3           Ware, Mr. Frederick    male   NaN      0   \n",
              "417         1309       3      Peter, Master. Michael J    male   NaN      1   \n",
              "\n",
              "     Parch              Ticket      Fare Cabin Embarked  \n",
              "413      0           A.5. 3236    8.0500   NaN        S  \n",
              "414      0            PC 17758  108.9000  C105        C  \n",
              "415      0  SOTON/O.Q. 3101262    7.2500   NaN        S  \n",
              "416      0              359309    8.0500   NaN        S  \n",
              "417      1                2668   22.3583   NaN        C  "
            ],
            "text/html": [
              "\n",
              "  <div id=\"df-f7631a3c-efab-4b99-9d0f-648f5b378359\" class=\"colab-df-container\">\n",
              "    <div>\n",
              "<style scoped>\n",
              "    .dataframe tbody tr th:only-of-type {\n",
              "        vertical-align: middle;\n",
              "    }\n",
              "\n",
              "    .dataframe tbody tr th {\n",
              "        vertical-align: top;\n",
              "    }\n",
              "\n",
              "    .dataframe thead th {\n",
              "        text-align: right;\n",
              "    }\n",
              "</style>\n",
              "<table border=\"1\" class=\"dataframe\">\n",
              "  <thead>\n",
              "    <tr style=\"text-align: right;\">\n",
              "      <th></th>\n",
              "      <th>PassengerId</th>\n",
              "      <th>Pclass</th>\n",
              "      <th>Name</th>\n",
              "      <th>Sex</th>\n",
              "      <th>Age</th>\n",
              "      <th>SibSp</th>\n",
              "      <th>Parch</th>\n",
              "      <th>Ticket</th>\n",
              "      <th>Fare</th>\n",
              "      <th>Cabin</th>\n",
              "      <th>Embarked</th>\n",
              "    </tr>\n",
              "  </thead>\n",
              "  <tbody>\n",
              "    <tr>\n",
              "      <th>413</th>\n",
              "      <td>1305</td>\n",
              "      <td>3</td>\n",
              "      <td>Spector, Mr. Woolf</td>\n",
              "      <td>male</td>\n",
              "      <td>NaN</td>\n",
              "      <td>0</td>\n",
              "      <td>0</td>\n",
              "      <td>A.5. 3236</td>\n",
              "      <td>8.0500</td>\n",
              "      <td>NaN</td>\n",
              "      <td>S</td>\n",
              "    </tr>\n",
              "    <tr>\n",
              "      <th>414</th>\n",
              "      <td>1306</td>\n",
              "      <td>1</td>\n",
              "      <td>Oliva y Ocana, Dona. Fermina</td>\n",
              "      <td>female</td>\n",
              "      <td>39.0</td>\n",
              "      <td>0</td>\n",
              "      <td>0</td>\n",
              "      <td>PC 17758</td>\n",
              "      <td>108.9000</td>\n",
              "      <td>C105</td>\n",
              "      <td>C</td>\n",
              "    </tr>\n",
              "    <tr>\n",
              "      <th>415</th>\n",
              "      <td>1307</td>\n",
              "      <td>3</td>\n",
              "      <td>Saether, Mr. Simon Sivertsen</td>\n",
              "      <td>male</td>\n",
              "      <td>38.5</td>\n",
              "      <td>0</td>\n",
              "      <td>0</td>\n",
              "      <td>SOTON/O.Q. 3101262</td>\n",
              "      <td>7.2500</td>\n",
              "      <td>NaN</td>\n",
              "      <td>S</td>\n",
              "    </tr>\n",
              "    <tr>\n",
              "      <th>416</th>\n",
              "      <td>1308</td>\n",
              "      <td>3</td>\n",
              "      <td>Ware, Mr. Frederick</td>\n",
              "      <td>male</td>\n",
              "      <td>NaN</td>\n",
              "      <td>0</td>\n",
              "      <td>0</td>\n",
              "      <td>359309</td>\n",
              "      <td>8.0500</td>\n",
              "      <td>NaN</td>\n",
              "      <td>S</td>\n",
              "    </tr>\n",
              "    <tr>\n",
              "      <th>417</th>\n",
              "      <td>1309</td>\n",
              "      <td>3</td>\n",
              "      <td>Peter, Master. Michael J</td>\n",
              "      <td>male</td>\n",
              "      <td>NaN</td>\n",
              "      <td>1</td>\n",
              "      <td>1</td>\n",
              "      <td>2668</td>\n",
              "      <td>22.3583</td>\n",
              "      <td>NaN</td>\n",
              "      <td>C</td>\n",
              "    </tr>\n",
              "  </tbody>\n",
              "</table>\n",
              "</div>\n",
              "    <div class=\"colab-df-buttons\">\n",
              "\n",
              "  <div class=\"colab-df-container\">\n",
              "    <button class=\"colab-df-convert\" onclick=\"convertToInteractive('df-f7631a3c-efab-4b99-9d0f-648f5b378359')\"\n",
              "            title=\"Convert this dataframe to an interactive table.\"\n",
              "            style=\"display:none;\">\n",
              "\n",
              "  <svg xmlns=\"http://www.w3.org/2000/svg\" height=\"24px\" viewBox=\"0 -960 960 960\">\n",
              "    <path d=\"M120-120v-720h720v720H120Zm60-500h600v-160H180v160Zm220 220h160v-160H400v160Zm0 220h160v-160H400v160ZM180-400h160v-160H180v160Zm440 0h160v-160H620v160ZM180-180h160v-160H180v160Zm440 0h160v-160H620v160Z\"/>\n",
              "  </svg>\n",
              "    </button>\n",
              "\n",
              "  <style>\n",
              "    .colab-df-container {\n",
              "      display:flex;\n",
              "      gap: 12px;\n",
              "    }\n",
              "\n",
              "    .colab-df-convert {\n",
              "      background-color: #E8F0FE;\n",
              "      border: none;\n",
              "      border-radius: 50%;\n",
              "      cursor: pointer;\n",
              "      display: none;\n",
              "      fill: #1967D2;\n",
              "      height: 32px;\n",
              "      padding: 0 0 0 0;\n",
              "      width: 32px;\n",
              "    }\n",
              "\n",
              "    .colab-df-convert:hover {\n",
              "      background-color: #E2EBFA;\n",
              "      box-shadow: 0px 1px 2px rgba(60, 64, 67, 0.3), 0px 1px 3px 1px rgba(60, 64, 67, 0.15);\n",
              "      fill: #174EA6;\n",
              "    }\n",
              "\n",
              "    .colab-df-buttons div {\n",
              "      margin-bottom: 4px;\n",
              "    }\n",
              "\n",
              "    [theme=dark] .colab-df-convert {\n",
              "      background-color: #3B4455;\n",
              "      fill: #D2E3FC;\n",
              "    }\n",
              "\n",
              "    [theme=dark] .colab-df-convert:hover {\n",
              "      background-color: #434B5C;\n",
              "      box-shadow: 0px 1px 3px 1px rgba(0, 0, 0, 0.15);\n",
              "      filter: drop-shadow(0px 1px 2px rgba(0, 0, 0, 0.3));\n",
              "      fill: #FFFFFF;\n",
              "    }\n",
              "  </style>\n",
              "\n",
              "    <script>\n",
              "      const buttonEl =\n",
              "        document.querySelector('#df-f7631a3c-efab-4b99-9d0f-648f5b378359 button.colab-df-convert');\n",
              "      buttonEl.style.display =\n",
              "        google.colab.kernel.accessAllowed ? 'block' : 'none';\n",
              "\n",
              "      async function convertToInteractive(key) {\n",
              "        const element = document.querySelector('#df-f7631a3c-efab-4b99-9d0f-648f5b378359');\n",
              "        const dataTable =\n",
              "          await google.colab.kernel.invokeFunction('convertToInteractive',\n",
              "                                                    [key], {});\n",
              "        if (!dataTable) return;\n",
              "\n",
              "        const docLinkHtml = 'Like what you see? Visit the ' +\n",
              "          '<a target=\"_blank\" href=https://colab.research.google.com/notebooks/data_table.ipynb>data table notebook</a>'\n",
              "          + ' to learn more about interactive tables.';\n",
              "        element.innerHTML = '';\n",
              "        dataTable['output_type'] = 'display_data';\n",
              "        await google.colab.output.renderOutput(dataTable, element);\n",
              "        const docLink = document.createElement('div');\n",
              "        docLink.innerHTML = docLinkHtml;\n",
              "        element.appendChild(docLink);\n",
              "      }\n",
              "    </script>\n",
              "  </div>\n",
              "\n",
              "\n",
              "<div id=\"df-f6bc71d8-8804-4ecf-8b5e-67ab2913ff96\">\n",
              "  <button class=\"colab-df-quickchart\" onclick=\"quickchart('df-f6bc71d8-8804-4ecf-8b5e-67ab2913ff96')\"\n",
              "            title=\"Suggest charts\"\n",
              "            style=\"display:none;\">\n",
              "\n",
              "<svg xmlns=\"http://www.w3.org/2000/svg\" height=\"24px\"viewBox=\"0 0 24 24\"\n",
              "     width=\"24px\">\n",
              "    <g>\n",
              "        <path d=\"M19 3H5c-1.1 0-2 .9-2 2v14c0 1.1.9 2 2 2h14c1.1 0 2-.9 2-2V5c0-1.1-.9-2-2-2zM9 17H7v-7h2v7zm4 0h-2V7h2v10zm4 0h-2v-4h2v4z\"/>\n",
              "    </g>\n",
              "</svg>\n",
              "  </button>\n",
              "\n",
              "<style>\n",
              "  .colab-df-quickchart {\n",
              "      --bg-color: #E8F0FE;\n",
              "      --fill-color: #1967D2;\n",
              "      --hover-bg-color: #E2EBFA;\n",
              "      --hover-fill-color: #174EA6;\n",
              "      --disabled-fill-color: #AAA;\n",
              "      --disabled-bg-color: #DDD;\n",
              "  }\n",
              "\n",
              "  [theme=dark] .colab-df-quickchart {\n",
              "      --bg-color: #3B4455;\n",
              "      --fill-color: #D2E3FC;\n",
              "      --hover-bg-color: #434B5C;\n",
              "      --hover-fill-color: #FFFFFF;\n",
              "      --disabled-bg-color: #3B4455;\n",
              "      --disabled-fill-color: #666;\n",
              "  }\n",
              "\n",
              "  .colab-df-quickchart {\n",
              "    background-color: var(--bg-color);\n",
              "    border: none;\n",
              "    border-radius: 50%;\n",
              "    cursor: pointer;\n",
              "    display: none;\n",
              "    fill: var(--fill-color);\n",
              "    height: 32px;\n",
              "    padding: 0;\n",
              "    width: 32px;\n",
              "  }\n",
              "\n",
              "  .colab-df-quickchart:hover {\n",
              "    background-color: var(--hover-bg-color);\n",
              "    box-shadow: 0 1px 2px rgba(60, 64, 67, 0.3), 0 1px 3px 1px rgba(60, 64, 67, 0.15);\n",
              "    fill: var(--button-hover-fill-color);\n",
              "  }\n",
              "\n",
              "  .colab-df-quickchart-complete:disabled,\n",
              "  .colab-df-quickchart-complete:disabled:hover {\n",
              "    background-color: var(--disabled-bg-color);\n",
              "    fill: var(--disabled-fill-color);\n",
              "    box-shadow: none;\n",
              "  }\n",
              "\n",
              "  .colab-df-spinner {\n",
              "    border: 2px solid var(--fill-color);\n",
              "    border-color: transparent;\n",
              "    border-bottom-color: var(--fill-color);\n",
              "    animation:\n",
              "      spin 1s steps(1) infinite;\n",
              "  }\n",
              "\n",
              "  @keyframes spin {\n",
              "    0% {\n",
              "      border-color: transparent;\n",
              "      border-bottom-color: var(--fill-color);\n",
              "      border-left-color: var(--fill-color);\n",
              "    }\n",
              "    20% {\n",
              "      border-color: transparent;\n",
              "      border-left-color: var(--fill-color);\n",
              "      border-top-color: var(--fill-color);\n",
              "    }\n",
              "    30% {\n",
              "      border-color: transparent;\n",
              "      border-left-color: var(--fill-color);\n",
              "      border-top-color: var(--fill-color);\n",
              "      border-right-color: var(--fill-color);\n",
              "    }\n",
              "    40% {\n",
              "      border-color: transparent;\n",
              "      border-right-color: var(--fill-color);\n",
              "      border-top-color: var(--fill-color);\n",
              "    }\n",
              "    60% {\n",
              "      border-color: transparent;\n",
              "      border-right-color: var(--fill-color);\n",
              "    }\n",
              "    80% {\n",
              "      border-color: transparent;\n",
              "      border-right-color: var(--fill-color);\n",
              "      border-bottom-color: var(--fill-color);\n",
              "    }\n",
              "    90% {\n",
              "      border-color: transparent;\n",
              "      border-bottom-color: var(--fill-color);\n",
              "    }\n",
              "  }\n",
              "</style>\n",
              "\n",
              "  <script>\n",
              "    async function quickchart(key) {\n",
              "      const quickchartButtonEl =\n",
              "        document.querySelector('#' + key + ' button');\n",
              "      quickchartButtonEl.disabled = true;  // To prevent multiple clicks.\n",
              "      quickchartButtonEl.classList.add('colab-df-spinner');\n",
              "      try {\n",
              "        const charts = await google.colab.kernel.invokeFunction(\n",
              "            'suggestCharts', [key], {});\n",
              "      } catch (error) {\n",
              "        console.error('Error during call to suggestCharts:', error);\n",
              "      }\n",
              "      quickchartButtonEl.classList.remove('colab-df-spinner');\n",
              "      quickchartButtonEl.classList.add('colab-df-quickchart-complete');\n",
              "    }\n",
              "    (() => {\n",
              "      let quickchartButtonEl =\n",
              "        document.querySelector('#df-f6bc71d8-8804-4ecf-8b5e-67ab2913ff96 button');\n",
              "      quickchartButtonEl.style.display =\n",
              "        google.colab.kernel.accessAllowed ? 'block' : 'none';\n",
              "    })();\n",
              "  </script>\n",
              "</div>\n",
              "\n",
              "    </div>\n",
              "  </div>\n"
            ],
            "application/vnd.google.colaboratory.intrinsic+json": {
              "type": "dataframe",
              "summary": "{\n  \"name\": \"train\",\n  \"rows\": 5,\n  \"fields\": [\n    {\n      \"column\": \"PassengerId\",\n      \"properties\": {\n        \"dtype\": \"number\",\n        \"std\": 1,\n        \"min\": 1305,\n        \"max\": 1309,\n        \"num_unique_values\": 5,\n        \"samples\": [\n          1306,\n          1309,\n          1307\n        ],\n        \"semantic_type\": \"\",\n        \"description\": \"\"\n      }\n    },\n    {\n      \"column\": \"Pclass\",\n      \"properties\": {\n        \"dtype\": \"number\",\n        \"std\": 0,\n        \"min\": 1,\n        \"max\": 3,\n        \"num_unique_values\": 2,\n        \"samples\": [\n          1,\n          3\n        ],\n        \"semantic_type\": \"\",\n        \"description\": \"\"\n      }\n    },\n    {\n      \"column\": \"Name\",\n      \"properties\": {\n        \"dtype\": \"string\",\n        \"num_unique_values\": 5,\n        \"samples\": [\n          \"Oliva y Ocana, Dona. Fermina\",\n          \"Peter, Master. Michael J\"\n        ],\n        \"semantic_type\": \"\",\n        \"description\": \"\"\n      }\n    },\n    {\n      \"column\": \"Sex\",\n      \"properties\": {\n        \"dtype\": \"category\",\n        \"num_unique_values\": 2,\n        \"samples\": [\n          \"female\",\n          \"male\"\n        ],\n        \"semantic_type\": \"\",\n        \"description\": \"\"\n      }\n    },\n    {\n      \"column\": \"Age\",\n      \"properties\": {\n        \"dtype\": \"number\",\n        \"std\": 0.3535533905932738,\n        \"min\": 38.5,\n        \"max\": 39.0,\n        \"num_unique_values\": 2,\n        \"samples\": [\n          38.5,\n          39.0\n        ],\n        \"semantic_type\": \"\",\n        \"description\": \"\"\n      }\n    },\n    {\n      \"column\": \"SibSp\",\n      \"properties\": {\n        \"dtype\": \"number\",\n        \"std\": 0,\n        \"min\": 0,\n        \"max\": 1,\n        \"num_unique_values\": 2,\n        \"samples\": [\n          1,\n          0\n        ],\n        \"semantic_type\": \"\",\n        \"description\": \"\"\n      }\n    },\n    {\n      \"column\": \"Parch\",\n      \"properties\": {\n        \"dtype\": \"number\",\n        \"std\": 0,\n        \"min\": 0,\n        \"max\": 1,\n        \"num_unique_values\": 2,\n        \"samples\": [\n          1,\n          0\n        ],\n        \"semantic_type\": \"\",\n        \"description\": \"\"\n      }\n    },\n    {\n      \"column\": \"Ticket\",\n      \"properties\": {\n        \"dtype\": \"string\",\n        \"num_unique_values\": 5,\n        \"samples\": [\n          \"PC 17758\",\n          \"2668\"\n        ],\n        \"semantic_type\": \"\",\n        \"description\": \"\"\n      }\n    },\n    {\n      \"column\": \"Fare\",\n      \"properties\": {\n        \"dtype\": \"number\",\n        \"std\": 44.04692325552376,\n        \"min\": 7.25,\n        \"max\": 108.9,\n        \"num_unique_values\": 4,\n        \"samples\": [\n          108.9,\n          22.3583\n        ],\n        \"semantic_type\": \"\",\n        \"description\": \"\"\n      }\n    },\n    {\n      \"column\": \"Cabin\",\n      \"properties\": {\n        \"dtype\": \"category\",\n        \"num_unique_values\": 1,\n        \"samples\": [\n          \"C105\"\n        ],\n        \"semantic_type\": \"\",\n        \"description\": \"\"\n      }\n    },\n    {\n      \"column\": \"Embarked\",\n      \"properties\": {\n        \"dtype\": \"category\",\n        \"num_unique_values\": 2,\n        \"samples\": [\n          \"C\"\n        ],\n        \"semantic_type\": \"\",\n        \"description\": \"\"\n      }\n    }\n  ]\n}"
            }
          },
          "metadata": {},
          "execution_count": 13
        }
      ]
    },
    {
      "cell_type": "code",
      "source": [
        "#Checking the last 5 rows of the test data\n",
        "test.tail(5)"
      ],
      "metadata": {
        "colab": {
          "base_uri": "https://localhost:8080/",
          "height": 206
        },
        "id": "pJ67xpuxNJdH",
        "outputId": "0b40601f-f44d-4977-b7c3-2b79d7883029"
      },
      "execution_count": null,
      "outputs": [
        {
          "output_type": "execute_result",
          "data": {
            "text/plain": [
              "     PassengerId  Pclass                          Name     Sex   Age  SibSp  \\\n",
              "413         1305       3            Spector, Mr. Woolf    male   NaN      0   \n",
              "414         1306       1  Oliva y Ocana, Dona. Fermina  female  39.0      0   \n",
              "415         1307       3  Saether, Mr. Simon Sivertsen    male  38.5      0   \n",
              "416         1308       3           Ware, Mr. Frederick    male   NaN      0   \n",
              "417         1309       3      Peter, Master. Michael J    male   NaN      1   \n",
              "\n",
              "     Parch              Ticket      Fare Cabin Embarked  \n",
              "413      0           A.5. 3236    8.0500   NaN        S  \n",
              "414      0            PC 17758  108.9000  C105        C  \n",
              "415      0  SOTON/O.Q. 3101262    7.2500   NaN        S  \n",
              "416      0              359309    8.0500   NaN        S  \n",
              "417      1                2668   22.3583   NaN        C  "
            ],
            "text/html": [
              "\n",
              "  <div id=\"df-701141e9-270f-4555-9c86-8234c7199bae\" class=\"colab-df-container\">\n",
              "    <div>\n",
              "<style scoped>\n",
              "    .dataframe tbody tr th:only-of-type {\n",
              "        vertical-align: middle;\n",
              "    }\n",
              "\n",
              "    .dataframe tbody tr th {\n",
              "        vertical-align: top;\n",
              "    }\n",
              "\n",
              "    .dataframe thead th {\n",
              "        text-align: right;\n",
              "    }\n",
              "</style>\n",
              "<table border=\"1\" class=\"dataframe\">\n",
              "  <thead>\n",
              "    <tr style=\"text-align: right;\">\n",
              "      <th></th>\n",
              "      <th>PassengerId</th>\n",
              "      <th>Pclass</th>\n",
              "      <th>Name</th>\n",
              "      <th>Sex</th>\n",
              "      <th>Age</th>\n",
              "      <th>SibSp</th>\n",
              "      <th>Parch</th>\n",
              "      <th>Ticket</th>\n",
              "      <th>Fare</th>\n",
              "      <th>Cabin</th>\n",
              "      <th>Embarked</th>\n",
              "    </tr>\n",
              "  </thead>\n",
              "  <tbody>\n",
              "    <tr>\n",
              "      <th>413</th>\n",
              "      <td>1305</td>\n",
              "      <td>3</td>\n",
              "      <td>Spector, Mr. Woolf</td>\n",
              "      <td>male</td>\n",
              "      <td>NaN</td>\n",
              "      <td>0</td>\n",
              "      <td>0</td>\n",
              "      <td>A.5. 3236</td>\n",
              "      <td>8.0500</td>\n",
              "      <td>NaN</td>\n",
              "      <td>S</td>\n",
              "    </tr>\n",
              "    <tr>\n",
              "      <th>414</th>\n",
              "      <td>1306</td>\n",
              "      <td>1</td>\n",
              "      <td>Oliva y Ocana, Dona. Fermina</td>\n",
              "      <td>female</td>\n",
              "      <td>39.0</td>\n",
              "      <td>0</td>\n",
              "      <td>0</td>\n",
              "      <td>PC 17758</td>\n",
              "      <td>108.9000</td>\n",
              "      <td>C105</td>\n",
              "      <td>C</td>\n",
              "    </tr>\n",
              "    <tr>\n",
              "      <th>415</th>\n",
              "      <td>1307</td>\n",
              "      <td>3</td>\n",
              "      <td>Saether, Mr. Simon Sivertsen</td>\n",
              "      <td>male</td>\n",
              "      <td>38.5</td>\n",
              "      <td>0</td>\n",
              "      <td>0</td>\n",
              "      <td>SOTON/O.Q. 3101262</td>\n",
              "      <td>7.2500</td>\n",
              "      <td>NaN</td>\n",
              "      <td>S</td>\n",
              "    </tr>\n",
              "    <tr>\n",
              "      <th>416</th>\n",
              "      <td>1308</td>\n",
              "      <td>3</td>\n",
              "      <td>Ware, Mr. Frederick</td>\n",
              "      <td>male</td>\n",
              "      <td>NaN</td>\n",
              "      <td>0</td>\n",
              "      <td>0</td>\n",
              "      <td>359309</td>\n",
              "      <td>8.0500</td>\n",
              "      <td>NaN</td>\n",
              "      <td>S</td>\n",
              "    </tr>\n",
              "    <tr>\n",
              "      <th>417</th>\n",
              "      <td>1309</td>\n",
              "      <td>3</td>\n",
              "      <td>Peter, Master. Michael J</td>\n",
              "      <td>male</td>\n",
              "      <td>NaN</td>\n",
              "      <td>1</td>\n",
              "      <td>1</td>\n",
              "      <td>2668</td>\n",
              "      <td>22.3583</td>\n",
              "      <td>NaN</td>\n",
              "      <td>C</td>\n",
              "    </tr>\n",
              "  </tbody>\n",
              "</table>\n",
              "</div>\n",
              "    <div class=\"colab-df-buttons\">\n",
              "\n",
              "  <div class=\"colab-df-container\">\n",
              "    <button class=\"colab-df-convert\" onclick=\"convertToInteractive('df-701141e9-270f-4555-9c86-8234c7199bae')\"\n",
              "            title=\"Convert this dataframe to an interactive table.\"\n",
              "            style=\"display:none;\">\n",
              "\n",
              "  <svg xmlns=\"http://www.w3.org/2000/svg\" height=\"24px\" viewBox=\"0 -960 960 960\">\n",
              "    <path d=\"M120-120v-720h720v720H120Zm60-500h600v-160H180v160Zm220 220h160v-160H400v160Zm0 220h160v-160H400v160ZM180-400h160v-160H180v160Zm440 0h160v-160H620v160ZM180-180h160v-160H180v160Zm440 0h160v-160H620v160Z\"/>\n",
              "  </svg>\n",
              "    </button>\n",
              "\n",
              "  <style>\n",
              "    .colab-df-container {\n",
              "      display:flex;\n",
              "      gap: 12px;\n",
              "    }\n",
              "\n",
              "    .colab-df-convert {\n",
              "      background-color: #E8F0FE;\n",
              "      border: none;\n",
              "      border-radius: 50%;\n",
              "      cursor: pointer;\n",
              "      display: none;\n",
              "      fill: #1967D2;\n",
              "      height: 32px;\n",
              "      padding: 0 0 0 0;\n",
              "      width: 32px;\n",
              "    }\n",
              "\n",
              "    .colab-df-convert:hover {\n",
              "      background-color: #E2EBFA;\n",
              "      box-shadow: 0px 1px 2px rgba(60, 64, 67, 0.3), 0px 1px 3px 1px rgba(60, 64, 67, 0.15);\n",
              "      fill: #174EA6;\n",
              "    }\n",
              "\n",
              "    .colab-df-buttons div {\n",
              "      margin-bottom: 4px;\n",
              "    }\n",
              "\n",
              "    [theme=dark] .colab-df-convert {\n",
              "      background-color: #3B4455;\n",
              "      fill: #D2E3FC;\n",
              "    }\n",
              "\n",
              "    [theme=dark] .colab-df-convert:hover {\n",
              "      background-color: #434B5C;\n",
              "      box-shadow: 0px 1px 3px 1px rgba(0, 0, 0, 0.15);\n",
              "      filter: drop-shadow(0px 1px 2px rgba(0, 0, 0, 0.3));\n",
              "      fill: #FFFFFF;\n",
              "    }\n",
              "  </style>\n",
              "\n",
              "    <script>\n",
              "      const buttonEl =\n",
              "        document.querySelector('#df-701141e9-270f-4555-9c86-8234c7199bae button.colab-df-convert');\n",
              "      buttonEl.style.display =\n",
              "        google.colab.kernel.accessAllowed ? 'block' : 'none';\n",
              "\n",
              "      async function convertToInteractive(key) {\n",
              "        const element = document.querySelector('#df-701141e9-270f-4555-9c86-8234c7199bae');\n",
              "        const dataTable =\n",
              "          await google.colab.kernel.invokeFunction('convertToInteractive',\n",
              "                                                    [key], {});\n",
              "        if (!dataTable) return;\n",
              "\n",
              "        const docLinkHtml = 'Like what you see? Visit the ' +\n",
              "          '<a target=\"_blank\" href=https://colab.research.google.com/notebooks/data_table.ipynb>data table notebook</a>'\n",
              "          + ' to learn more about interactive tables.';\n",
              "        element.innerHTML = '';\n",
              "        dataTable['output_type'] = 'display_data';\n",
              "        await google.colab.output.renderOutput(dataTable, element);\n",
              "        const docLink = document.createElement('div');\n",
              "        docLink.innerHTML = docLinkHtml;\n",
              "        element.appendChild(docLink);\n",
              "      }\n",
              "    </script>\n",
              "  </div>\n",
              "\n",
              "\n",
              "<div id=\"df-9a4c9da1-1b26-4a48-8dae-752d5ab422ed\">\n",
              "  <button class=\"colab-df-quickchart\" onclick=\"quickchart('df-9a4c9da1-1b26-4a48-8dae-752d5ab422ed')\"\n",
              "            title=\"Suggest charts\"\n",
              "            style=\"display:none;\">\n",
              "\n",
              "<svg xmlns=\"http://www.w3.org/2000/svg\" height=\"24px\"viewBox=\"0 0 24 24\"\n",
              "     width=\"24px\">\n",
              "    <g>\n",
              "        <path d=\"M19 3H5c-1.1 0-2 .9-2 2v14c0 1.1.9 2 2 2h14c1.1 0 2-.9 2-2V5c0-1.1-.9-2-2-2zM9 17H7v-7h2v7zm4 0h-2V7h2v10zm4 0h-2v-4h2v4z\"/>\n",
              "    </g>\n",
              "</svg>\n",
              "  </button>\n",
              "\n",
              "<style>\n",
              "  .colab-df-quickchart {\n",
              "      --bg-color: #E8F0FE;\n",
              "      --fill-color: #1967D2;\n",
              "      --hover-bg-color: #E2EBFA;\n",
              "      --hover-fill-color: #174EA6;\n",
              "      --disabled-fill-color: #AAA;\n",
              "      --disabled-bg-color: #DDD;\n",
              "  }\n",
              "\n",
              "  [theme=dark] .colab-df-quickchart {\n",
              "      --bg-color: #3B4455;\n",
              "      --fill-color: #D2E3FC;\n",
              "      --hover-bg-color: #434B5C;\n",
              "      --hover-fill-color: #FFFFFF;\n",
              "      --disabled-bg-color: #3B4455;\n",
              "      --disabled-fill-color: #666;\n",
              "  }\n",
              "\n",
              "  .colab-df-quickchart {\n",
              "    background-color: var(--bg-color);\n",
              "    border: none;\n",
              "    border-radius: 50%;\n",
              "    cursor: pointer;\n",
              "    display: none;\n",
              "    fill: var(--fill-color);\n",
              "    height: 32px;\n",
              "    padding: 0;\n",
              "    width: 32px;\n",
              "  }\n",
              "\n",
              "  .colab-df-quickchart:hover {\n",
              "    background-color: var(--hover-bg-color);\n",
              "    box-shadow: 0 1px 2px rgba(60, 64, 67, 0.3), 0 1px 3px 1px rgba(60, 64, 67, 0.15);\n",
              "    fill: var(--button-hover-fill-color);\n",
              "  }\n",
              "\n",
              "  .colab-df-quickchart-complete:disabled,\n",
              "  .colab-df-quickchart-complete:disabled:hover {\n",
              "    background-color: var(--disabled-bg-color);\n",
              "    fill: var(--disabled-fill-color);\n",
              "    box-shadow: none;\n",
              "  }\n",
              "\n",
              "  .colab-df-spinner {\n",
              "    border: 2px solid var(--fill-color);\n",
              "    border-color: transparent;\n",
              "    border-bottom-color: var(--fill-color);\n",
              "    animation:\n",
              "      spin 1s steps(1) infinite;\n",
              "  }\n",
              "\n",
              "  @keyframes spin {\n",
              "    0% {\n",
              "      border-color: transparent;\n",
              "      border-bottom-color: var(--fill-color);\n",
              "      border-left-color: var(--fill-color);\n",
              "    }\n",
              "    20% {\n",
              "      border-color: transparent;\n",
              "      border-left-color: var(--fill-color);\n",
              "      border-top-color: var(--fill-color);\n",
              "    }\n",
              "    30% {\n",
              "      border-color: transparent;\n",
              "      border-left-color: var(--fill-color);\n",
              "      border-top-color: var(--fill-color);\n",
              "      border-right-color: var(--fill-color);\n",
              "    }\n",
              "    40% {\n",
              "      border-color: transparent;\n",
              "      border-right-color: var(--fill-color);\n",
              "      border-top-color: var(--fill-color);\n",
              "    }\n",
              "    60% {\n",
              "      border-color: transparent;\n",
              "      border-right-color: var(--fill-color);\n",
              "    }\n",
              "    80% {\n",
              "      border-color: transparent;\n",
              "      border-right-color: var(--fill-color);\n",
              "      border-bottom-color: var(--fill-color);\n",
              "    }\n",
              "    90% {\n",
              "      border-color: transparent;\n",
              "      border-bottom-color: var(--fill-color);\n",
              "    }\n",
              "  }\n",
              "</style>\n",
              "\n",
              "  <script>\n",
              "    async function quickchart(key) {\n",
              "      const quickchartButtonEl =\n",
              "        document.querySelector('#' + key + ' button');\n",
              "      quickchartButtonEl.disabled = true;  // To prevent multiple clicks.\n",
              "      quickchartButtonEl.classList.add('colab-df-spinner');\n",
              "      try {\n",
              "        const charts = await google.colab.kernel.invokeFunction(\n",
              "            'suggestCharts', [key], {});\n",
              "      } catch (error) {\n",
              "        console.error('Error during call to suggestCharts:', error);\n",
              "      }\n",
              "      quickchartButtonEl.classList.remove('colab-df-spinner');\n",
              "      quickchartButtonEl.classList.add('colab-df-quickchart-complete');\n",
              "    }\n",
              "    (() => {\n",
              "      let quickchartButtonEl =\n",
              "        document.querySelector('#df-9a4c9da1-1b26-4a48-8dae-752d5ab422ed button');\n",
              "      quickchartButtonEl.style.display =\n",
              "        google.colab.kernel.accessAllowed ? 'block' : 'none';\n",
              "    })();\n",
              "  </script>\n",
              "</div>\n",
              "\n",
              "    </div>\n",
              "  </div>\n"
            ],
            "application/vnd.google.colaboratory.intrinsic+json": {
              "type": "dataframe",
              "summary": "{\n  \"name\": \"test\",\n  \"rows\": 5,\n  \"fields\": [\n    {\n      \"column\": \"PassengerId\",\n      \"properties\": {\n        \"dtype\": \"number\",\n        \"std\": 1,\n        \"min\": 1305,\n        \"max\": 1309,\n        \"num_unique_values\": 5,\n        \"samples\": [\n          1306,\n          1309,\n          1307\n        ],\n        \"semantic_type\": \"\",\n        \"description\": \"\"\n      }\n    },\n    {\n      \"column\": \"Pclass\",\n      \"properties\": {\n        \"dtype\": \"number\",\n        \"std\": 0,\n        \"min\": 1,\n        \"max\": 3,\n        \"num_unique_values\": 2,\n        \"samples\": [\n          1,\n          3\n        ],\n        \"semantic_type\": \"\",\n        \"description\": \"\"\n      }\n    },\n    {\n      \"column\": \"Name\",\n      \"properties\": {\n        \"dtype\": \"string\",\n        \"num_unique_values\": 5,\n        \"samples\": [\n          \"Oliva y Ocana, Dona. Fermina\",\n          \"Peter, Master. Michael J\"\n        ],\n        \"semantic_type\": \"\",\n        \"description\": \"\"\n      }\n    },\n    {\n      \"column\": \"Sex\",\n      \"properties\": {\n        \"dtype\": \"category\",\n        \"num_unique_values\": 2,\n        \"samples\": [\n          \"female\",\n          \"male\"\n        ],\n        \"semantic_type\": \"\",\n        \"description\": \"\"\n      }\n    },\n    {\n      \"column\": \"Age\",\n      \"properties\": {\n        \"dtype\": \"number\",\n        \"std\": 0.3535533905932738,\n        \"min\": 38.5,\n        \"max\": 39.0,\n        \"num_unique_values\": 2,\n        \"samples\": [\n          38.5,\n          39.0\n        ],\n        \"semantic_type\": \"\",\n        \"description\": \"\"\n      }\n    },\n    {\n      \"column\": \"SibSp\",\n      \"properties\": {\n        \"dtype\": \"number\",\n        \"std\": 0,\n        \"min\": 0,\n        \"max\": 1,\n        \"num_unique_values\": 2,\n        \"samples\": [\n          1,\n          0\n        ],\n        \"semantic_type\": \"\",\n        \"description\": \"\"\n      }\n    },\n    {\n      \"column\": \"Parch\",\n      \"properties\": {\n        \"dtype\": \"number\",\n        \"std\": 0,\n        \"min\": 0,\n        \"max\": 1,\n        \"num_unique_values\": 2,\n        \"samples\": [\n          1,\n          0\n        ],\n        \"semantic_type\": \"\",\n        \"description\": \"\"\n      }\n    },\n    {\n      \"column\": \"Ticket\",\n      \"properties\": {\n        \"dtype\": \"string\",\n        \"num_unique_values\": 5,\n        \"samples\": [\n          \"PC 17758\",\n          \"2668\"\n        ],\n        \"semantic_type\": \"\",\n        \"description\": \"\"\n      }\n    },\n    {\n      \"column\": \"Fare\",\n      \"properties\": {\n        \"dtype\": \"number\",\n        \"std\": 44.04692325552376,\n        \"min\": 7.25,\n        \"max\": 108.9,\n        \"num_unique_values\": 4,\n        \"samples\": [\n          108.9,\n          22.3583\n        ],\n        \"semantic_type\": \"\",\n        \"description\": \"\"\n      }\n    },\n    {\n      \"column\": \"Cabin\",\n      \"properties\": {\n        \"dtype\": \"category\",\n        \"num_unique_values\": 1,\n        \"samples\": [\n          \"C105\"\n        ],\n        \"semantic_type\": \"\",\n        \"description\": \"\"\n      }\n    },\n    {\n      \"column\": \"Embarked\",\n      \"properties\": {\n        \"dtype\": \"category\",\n        \"num_unique_values\": 2,\n        \"samples\": [\n          \"C\"\n        ],\n        \"semantic_type\": \"\",\n        \"description\": \"\"\n      }\n    }\n  ]\n}"
            }
          },
          "metadata": {},
          "execution_count": 14
        }
      ]
    },
    {
      "cell_type": "markdown",
      "metadata": {
        "id": "g5vwXTd33tKu"
      },
      "source": [
        "#### 7.  Do a describitive of both the train and test data. Comment on the results from both data."
      ]
    },
    {
      "cell_type": "markdown",
      "source": [
        "Both the last 5 rows of the train and test data have the same values for the PassengerId, Pclass, Name, Sex, Age, SibSp, Parch, Ticket, Fare, Cabin, Embarked columns."
      ],
      "metadata": {
        "id": "yP92UgmGNlXf"
      }
    },
    {
      "cell_type": "markdown",
      "metadata": {
        "id": "mV-v4zwW3tKv"
      },
      "source": [
        "#### 8.  What are the column names in the train and test data respectively. Do you have any column in train which is absent in the test"
      ]
    },
    {
      "cell_type": "markdown",
      "source": [
        "The column names in the train data are PassengerId, Pclass, Name, Sex, Age, SibSp, Parch, Ticket, Fare, Cabin and Embarked.\n",
        "\n",
        "The column names in the test data are PassengerId, Pclass, Name, Sex, Age, SibSp, Parch, Ticket, Fare, Cabin, Embarked.\n",
        "\n",
        "No, there's no column in train which is absent in test."
      ],
      "metadata": {
        "id": "-AjeRcLBOHhF"
      }
    },
    {
      "cell_type": "markdown",
      "metadata": {
        "scrolled": true,
        "id": "nQchaKj03tKw"
      },
      "source": [
        "#### 9.  Counts for the passengers who survived. Do this for only the train data"
      ]
    },
    {
      "cell_type": "code",
      "source": [
        "#Counts for the passengers who survived in the train data\n",
        "train_count = train['Name'].count()\n",
        "print(train_count)"
      ],
      "metadata": {
        "colab": {
          "base_uri": "https://localhost:8080/"
        },
        "id": "9JEnNOHwPW24",
        "outputId": "1cf8a265-f566-4e34-c074-b428a8a842a3"
      },
      "execution_count": null,
      "outputs": [
        {
          "output_type": "stream",
          "name": "stdout",
          "text": [
            "418\n"
          ]
        }
      ]
    },
    {
      "cell_type": "markdown",
      "metadata": {
        "id": "Ge-hgfeM3tKw"
      },
      "source": [
        "#### 10.  Extract only the titles from the name columns in the train\n",
        "**Hint**: Check on using regular expression to extract the title from the name column."
      ]
    },
    {
      "cell_type": "code",
      "source": [
        "#Extracting only the titles from the name columns in the train data\n",
        "titles = ['Mlle.', 'Major.', 'Master.' ,'Col.', 'Sir.', 'Don.', 'Mme.', 'Jonkheer.', 'Lady.', 'Capt.', 'Countess.', 'Ms.', 'Dona.']\n",
        "train_titles_extracted = train[train['Name'].str.contains('|'.join(titles), case=False, na=False)]\n",
        "print(train_titles_extracted)"
      ],
      "metadata": {
        "colab": {
          "base_uri": "https://localhost:8080/"
        },
        "id": "rrLc_e_8Tquv",
        "outputId": "47b95d63-7350-4b74-ef02-c5744a77edd9"
      },
      "execution_count": null,
      "outputs": [
        {
          "output_type": "stream",
          "name": "stdout",
          "text": [
            "     PassengerId  Pclass                                               Name  \\\n",
            "21           913       3                          Olsen, Master. Artur Karl   \n",
            "23           915       1                    Williams, Mr. Richard Norris II   \n",
            "43           935       2              Corbett, Mrs. Walter H (Irene Colvin)   \n",
            "55           947       3                               Rice, Master. Albert   \n",
            "64           956       1                        Ryerson, Master. John Borie   \n",
            "77           969       1  Cornell, Mrs. Robert Clifford (Malvina Helen L...   \n",
            "80           972       3                               Boulos, Master. Akar   \n",
            "88           980       3                            O'Donoghue, Ms. Bridget   \n",
            "89           981       2                        Wells, Master. Ralph Lester   \n",
            "118         1010       1                               Beattie, Mr. Thomson   \n",
            "131         1023       1                          Gracie, Col. Archibald IV   \n",
            "151         1043       3                               Matinoff, Mr. Nicola   \n",
            "154         1046       3                       Asplund, Master. Filip Oscar   \n",
            "161         1053       3                     Touma, Master. Georges Youssef   \n",
            "192         1084       3                  van Billiard, Master. Walter John   \n",
            "194         1086       2                      Drew, Master. Marshall Brines   \n",
            "196         1088       1                    Spedden, Master. Robert Douglas   \n",
            "201         1093       3            Danbom, Master. Gilbert Sigvard Emanuel   \n",
            "202         1094       1                             Astor, Col. John Jacob   \n",
            "207         1099       2                       Collett, Mr. Sidney C Stuart   \n",
            "219         1111       3                    Thomson, Mr. Alexander Morrison   \n",
            "239         1131       1        Douglas, Mrs. Walter Donald (Mahala Dutton)   \n",
            "244         1136       3          Johnston, Master. William Arthur Willie\"\"   \n",
            "251         1143       3           Abrahamsson, Mr. Abraham August Johannes   \n",
            "281         1173       3                     Peacock, Master. Alfred Edward   \n",
            "286         1178       3             Franklin, Mr. Charles (Charles Fardon)   \n",
            "290         1182       1                Rheims, Mr. George Alexander Lucien   \n",
            "307         1199       3                          Aks, Master. Philip Frank   \n",
            "315         1207       3                               Hagardon, Miss. Kate   \n",
            "339         1231       3                              Betros, Master. Seman   \n",
            "344         1236       3                van Billiard, Master. James William   \n",
            "354         1246       3            Dean, Miss. Elizabeth Gladys Millvina\"\"   \n",
            "356         1248       1     Brown, Mrs. John Murray (Caroline Lane Lamson)   \n",
            "360         1252       3                        Sage, Master. William Henry   \n",
            "379         1271       3                        Asplund, Master. Carl Edgar   \n",
            "389         1281       3                        Palsson, Master. Paul Folke   \n",
            "392         1284       3                      Abbott, Master. Eugene Joseph   \n",
            "396         1288       3                               Colbert, Mr. Patrick   \n",
            "414         1306       1                       Oliva y Ocana, Dona. Fermina   \n",
            "417         1309       3                           Peter, Master. Michael J   \n",
            "\n",
            "        Sex    Age  SibSp  Parch              Ticket      Fare  \\\n",
            "21     male   9.00      0      1             C 17368    3.1708   \n",
            "23     male  21.00      0      1            PC 17597   61.3792   \n",
            "43   female  30.00      0      0              237249   13.0000   \n",
            "55     male  10.00      4      1              382652   29.1250   \n",
            "64     male  13.00      2      2            PC 17608  262.3750   \n",
            "77   female  55.00      2      0               11770   25.7000   \n",
            "80     male   6.00      1      1                2678   15.2458   \n",
            "88   female    NaN      0      0              364856    7.7500   \n",
            "89     male   2.00      1      1               29103   23.0000   \n",
            "118    male  36.00      0      0               13050   75.2417   \n",
            "131    male  53.00      0      0              113780   28.5000   \n",
            "151    male    NaN      0      0              349255    7.8958   \n",
            "154    male  13.00      4      2              347077   31.3875   \n",
            "161    male   7.00      1      1                2650   15.2458   \n",
            "192    male  11.50      1      1            A/5. 851   14.5000   \n",
            "194    male   8.00      0      2               28220   32.5000   \n",
            "196    male   6.00      0      2               16966  134.5000   \n",
            "201    male   0.33      0      2              347080   14.4000   \n",
            "202    male  47.00      1      0            PC 17757  227.5250   \n",
            "207    male  24.00      0      0               28034   10.5000   \n",
            "219    male    NaN      0      0               32302    8.0500   \n",
            "239  female  48.00      1      0            PC 17761  106.4250   \n",
            "244    male    NaN      1      2          W./C. 6607   23.4500   \n",
            "251    male  20.00      0      0    SOTON/O2 3101284    7.9250   \n",
            "281    male   0.75      1      1  SOTON/O.Q. 3101315   13.7750   \n",
            "286    male    NaN      0      0  SOTON/O.Q. 3101314    7.2500   \n",
            "290    male    NaN      0      0            PC 17607   39.6000   \n",
            "307    male   0.83      0      1              392091    9.3500   \n",
            "315  female  17.00      0      0         AQ/3. 30631    7.7333   \n",
            "339    male    NaN      0      0                2622    7.2292   \n",
            "344    male    NaN      1      1            A/5. 851   14.5000   \n",
            "354  female   0.17      1      2           C.A. 2315   20.5750   \n",
            "356  female  59.00      2      0               11769   51.4792   \n",
            "360    male  14.50      8      2            CA. 2343   69.5500   \n",
            "379    male   5.00      4      2              347077   31.3875   \n",
            "389    male   6.00      3      1              349909   21.0750   \n",
            "392    male  13.00      0      2           C.A. 2673   20.2500   \n",
            "396    male  24.00      0      0              371109    7.2500   \n",
            "414  female  39.00      0      0            PC 17758  108.9000   \n",
            "417    male    NaN      1      1                2668   22.3583   \n",
            "\n",
            "               Cabin Embarked  \n",
            "21               NaN        S  \n",
            "23               NaN        C  \n",
            "43               NaN        S  \n",
            "55               NaN        Q  \n",
            "64   B57 B59 B63 B66        C  \n",
            "77              C101        S  \n",
            "80               NaN        C  \n",
            "88               NaN        Q  \n",
            "89               NaN        S  \n",
            "118               C6        C  \n",
            "131              C51        C  \n",
            "151              NaN        C  \n",
            "154              NaN        S  \n",
            "161              NaN        C  \n",
            "192              NaN        S  \n",
            "194              NaN        S  \n",
            "196              E34        C  \n",
            "201              NaN        S  \n",
            "202          C62 C64        C  \n",
            "207              NaN        S  \n",
            "219              NaN        S  \n",
            "239              C86        C  \n",
            "244              NaN        S  \n",
            "251              NaN        S  \n",
            "281              NaN        S  \n",
            "286              NaN        S  \n",
            "290              NaN        S  \n",
            "307              NaN        S  \n",
            "315              NaN        Q  \n",
            "339              NaN        C  \n",
            "344              NaN        S  \n",
            "354              NaN        S  \n",
            "356             C101        S  \n",
            "360              NaN        S  \n",
            "379              NaN        S  \n",
            "389              NaN        S  \n",
            "392              NaN        S  \n",
            "396              NaN        Q  \n",
            "414             C105        C  \n",
            "417              NaN        C  \n"
          ]
        }
      ]
    },
    {
      "cell_type": "markdown",
      "metadata": {
        "id": "ZVjlmGrM3tKx"
      },
      "source": [
        "**Note:** You can only do this question after doing the previous question\n",
        " #### 11. Create a new column and call it \"Title\" to save the extracted titles above"
      ]
    },
    {
      "cell_type": "code",
      "source": [
        "#Saving the titles above into the \"Title\" column\n",
        "# Regular expression to extract titles from the Name column\n",
        "train['Title'] = train['Name'].str.extract(r'(\\b(?:Mlle.|Major.|Master.|Col.|Sir.|Don.|Mme.|Jonkheer.|Lady.|Capt.|Countess.|Ms.|Dona.)\\b)', expand=True)\n",
        "#'Mlle', 'Major', 'Master' ,'Col', 'Sir', 'Don', 'Mme', 'Jonkheer', 'Lady', 'Capt', 'Countess', 'Ms', 'Dona'\n",
        "\n",
        "# Displaying the first few rows to verify the new Title column\n",
        "print(train[['Name', 'Title']].head(20))\n"
      ],
      "metadata": {
        "colab": {
          "base_uri": "https://localhost:8080/"
        },
        "id": "iXbKtAU0Y_1b",
        "outputId": "d0207182-9c46-4789-8f69-27c4cafcbeba"
      },
      "execution_count": null,
      "outputs": [
        {
          "output_type": "stream",
          "name": "stdout",
          "text": [
            "                                                 Name Title\n",
            "0                                    Kelly, Mr. James   NaN\n",
            "1                    Wilkes, Mrs. James (Ellen Needs)   NaN\n",
            "2                           Myles, Mr. Thomas Francis   NaN\n",
            "3                                    Wirz, Mr. Albert   NaN\n",
            "4        Hirvonen, Mrs. Alexander (Helga E Lindqvist)   NaN\n",
            "5                          Svensson, Mr. Johan Cervin   NaN\n",
            "6                                Connolly, Miss. Kate   NaN\n",
            "7                        Caldwell, Mr. Albert Francis   NaN\n",
            "8           Abrahim, Mrs. Joseph (Sophie Halaut Easu)   NaN\n",
            "9                             Davies, Mr. John Samuel   NaN\n",
            "10                                   Ilieff, Mr. Ylio   NaN\n",
            "11                         Jones, Mr. Charles Cresson   NaN\n",
            "12      Snyder, Mrs. John Pillsbury (Nelle Stevenson)   NaN\n",
            "13                               Howard, Mr. Benjamin   NaN\n",
            "14  Chaffee, Mrs. Herbert Fuller (Carrie Constance...   NaN\n",
            "15      del Carlo, Mrs. Sebastiano (Argenia Genovesi)   NaN\n",
            "16                                  Keane, Mr. Daniel   NaN\n",
            "17                                  Assaf, Mr. Gerios   NaN\n",
            "18                       Ilmakangas, Miss. Ida Livija   NaN\n",
            "19              Assaf Khalil, Mrs. Mariana (Miriam\")\"   NaN\n"
          ]
        }
      ]
    },
    {
      "cell_type": "markdown",
      "metadata": {
        "id": "WNAVShOa3tKy"
      },
      "source": [
        "#### 12.  Use this dictionary to change the title names in the train.Title created column\n",
        "\n",
        "mapping = {'Mlle': 'Miss', 'Major': 'Mr', 'Col': 'Mr', 'Sir': 'Mr',\n",
        "           'Don': 'Mr', 'Mme': 'Mrs', 'Jonkheer': 'Mr', 'Lady': 'Mrs',\n",
        "           'Capt': 'Mr', 'Countess': 'Mrs', 'Ms': 'Miss', 'Dona': 'Mrs'}"
      ]
    },
    {
      "cell_type": "code",
      "source": [
        "#Changing the title names in the train in the title created column\n",
        "mapping = {'Mlle': 'Miss', 'Major': 'Mr', 'Col': 'Mr', 'Sir': 'Mr', 'Don': 'Mr', 'Mme': 'Mrs', 'Jonkheer': 'Mr', 'Lady': 'Mrs', 'Capt': 'Mr', 'Countess': 'Mrs', 'Ms': 'Miss', 'Dona': 'Mrs'}\n",
        "\n",
        "train['Title'] = train['Title'].replace(mapping)\n",
        "print(train[['Name', 'Title']].head())"
      ],
      "metadata": {
        "colab": {
          "base_uri": "https://localhost:8080/"
        },
        "id": "raqKFCh-bWrH",
        "outputId": "09a1ab6b-bb6d-4af1-d096-78a86d0023da"
      },
      "execution_count": null,
      "outputs": [
        {
          "output_type": "stream",
          "name": "stdout",
          "text": [
            "                                           Name Title\n",
            "0                              Kelly, Mr. James   NaN\n",
            "1              Wilkes, Mrs. James (Ellen Needs)   NaN\n",
            "2                     Myles, Mr. Thomas Francis   NaN\n",
            "3                              Wirz, Mr. Albert   NaN\n",
            "4  Hirvonen, Mrs. Alexander (Helga E Lindqvist)   NaN\n"
          ]
        }
      ]
    },
    {
      "cell_type": "markdown",
      "metadata": {
        "scrolled": false,
        "id": "fUNGtc3U3tKy"
      },
      "source": [
        "#### 13.  Value counts after changing some titles"
      ]
    },
    {
      "cell_type": "code",
      "source": [
        "#The new value counts after changing some titles\n",
        "value_count = train['Title'].value_counts()\n",
        "print(value_count)"
      ],
      "metadata": {
        "colab": {
          "base_uri": "https://localhost:8080/"
        },
        "id": "i7mbDa8lbU8l",
        "outputId": "c7212db7-d85e-4cb8-faa4-97e9b667f8df"
      },
      "execution_count": null,
      "outputs": [
        {
          "output_type": "stream",
          "name": "stdout",
          "text": [
            "Title\n",
            "Mrs    1\n",
            "Name: count, dtype: int64\n"
          ]
        }
      ]
    },
    {
      "cell_type": "markdown",
      "metadata": {
        "scrolled": true,
        "id": "_bc2i8uG3tKz"
      },
      "source": [
        "#### 14. Group data by class and view the averages for each column"
      ]
    },
    {
      "cell_type": "code",
      "source": [
        "class_averages = train.groupby('Pclass').mean(numeric_only=True)\n",
        "print(class_averages)"
      ],
      "metadata": {
        "colab": {
          "base_uri": "https://localhost:8080/"
        },
        "id": "CiCxNQP5FD5H",
        "outputId": "4ab87e74-c985-4f1b-e2e0-3fb2e9451268"
      },
      "execution_count": null,
      "outputs": [
        {
          "output_type": "stream",
          "name": "stdout",
          "text": [
            "        PassengerId        Age     SibSp     Parch       Fare\n",
            "Pclass                                                       \n",
            "1       1098.224299  40.918367  0.476636  0.383178  94.280297\n",
            "2       1117.935484  28.777500  0.376344  0.344086  22.202104\n",
            "3       1094.178899  24.027945  0.463303  0.417431  12.459678\n"
          ]
        }
      ]
    },
    {
      "cell_type": "markdown",
      "metadata": {
        "id": "Ok5MsgcT3tKz"
      },
      "source": [
        "#### 15.  What do you observe from the  above groupby table? Discuss and write down your thoughts"
      ]
    },
    {
      "cell_type": "markdown",
      "source": [
        "I observed that the Titanic dataset contains three classes:\n",
        "1st class: Wealthier passengers.\n",
        "2nd class: Middle-class passengers.\n",
        "3rd class: Lower-class passengers or those with the cheapest tickets.\n",
        "\n",
        "Under normal circumstances, the average of each column should have been a single value but there are three average values in each table which means that the titanic dataset contains three classes as described above.\n"
      ],
      "metadata": {
        "id": "EnVdzFyXHWYF"
      }
    },
    {
      "cell_type": "markdown",
      "metadata": {
        "scrolled": false,
        "id": "4A_jw6WM3tKz"
      },
      "source": [
        "#### 16.  Group by Pclass and sex and find the mean\n"
      ]
    },
    {
      "cell_type": "code",
      "source": [
        "class_and_sex_averages = train.groupby(['Pclass', 'Sex']).mean(numeric_only=True)\n",
        "print(class_and_sex_averages)"
      ],
      "metadata": {
        "colab": {
          "base_uri": "https://localhost:8080/"
        },
        "id": "SQZ6F7_QIvJn",
        "outputId": "a613f357-745c-4601-93f8-855accee3516"
      },
      "execution_count": null,
      "outputs": [
        {
          "output_type": "stream",
          "name": "stdout",
          "text": [
            "               PassengerId        Age     SibSp     Parch        Fare\n",
            "Pclass Sex                                                           \n",
            "1      female  1104.080000  41.333333  0.560000  0.500000  115.591168\n",
            "       male    1093.087719  40.520000  0.403509  0.280702   75.586551\n",
            "2      female  1111.200000  24.376552  0.533333  0.766667   26.438750\n",
            "       male    1121.142857  30.940678  0.301587  0.142857   20.184654\n",
            "3      female  1085.722222  23.073400  0.583333  0.597222   13.735129\n",
            "       male    1098.349315  24.525104  0.404110  0.328767   11.826350\n"
          ]
        }
      ]
    },
    {
      "cell_type": "markdown",
      "metadata": {
        "id": "rV-S_Muf3tK0"
      },
      "source": [
        "#### 17. **Missing Values**"
      ]
    },
    {
      "cell_type": "markdown",
      "metadata": {
        "scrolled": true,
        "id": "AklBQf0R3tK1"
      },
      "source": [
        "#### 18.  How many missing values are in train data  and test respectively.\n"
      ]
    },
    {
      "cell_type": "code",
      "source": [
        "#Missing values in the train data\n",
        "train_missing_values = train.isnull().sum()\n",
        "print(train_missing_values)"
      ],
      "metadata": {
        "colab": {
          "base_uri": "https://localhost:8080/"
        },
        "id": "w9XzihyZKThx",
        "outputId": "42c1d81b-45f8-429a-e4ba-7d202f851db6"
      },
      "execution_count": null,
      "outputs": [
        {
          "output_type": "stream",
          "name": "stdout",
          "text": [
            "PassengerId      0\n",
            "Pclass           0\n",
            "Name             0\n",
            "Sex              0\n",
            "Age             86\n",
            "SibSp            0\n",
            "Parch            0\n",
            "Ticket           0\n",
            "Fare             1\n",
            "Cabin          327\n",
            "Embarked         0\n",
            "Title          417\n",
            "dtype: int64\n"
          ]
        }
      ]
    },
    {
      "cell_type": "code",
      "source": [
        "#Missing values in the test data\n",
        "test_missing_values = test.isnull().sum()\n",
        "print(test_missing_values)"
      ],
      "metadata": {
        "colab": {
          "base_uri": "https://localhost:8080/"
        },
        "id": "P5IbsIcQKtUD",
        "outputId": "c655ce44-9357-4814-be57-459469e4fa3f"
      },
      "execution_count": null,
      "outputs": [
        {
          "output_type": "stream",
          "name": "stdout",
          "text": [
            "PassengerId      0\n",
            "Pclass           0\n",
            "Name             0\n",
            "Sex              0\n",
            "Age             86\n",
            "SibSp            0\n",
            "Parch            0\n",
            "Ticket           0\n",
            "Fare             1\n",
            "Cabin          327\n",
            "Embarked         0\n",
            "dtype: int64\n"
          ]
        }
      ]
    },
    {
      "cell_type": "markdown",
      "metadata": {
        "id": "AcEgOPbK3tK1"
      },
      "source": [
        "#### 19.  Which of columns in the train data had missing values?"
      ]
    },
    {
      "cell_type": "markdown",
      "source": [
        "The columns in the train data that had missing values are Age, Fare, Cabin, Title."
      ],
      "metadata": {
        "id": "CD4jzgf7K-RD"
      }
    },
    {
      "cell_type": "markdown",
      "metadata": {
        "id": "UuX9eBsC3tK2"
      },
      "source": [
        "#### 20.  Which of columns in the test data had missing values?\n"
      ]
    },
    {
      "cell_type": "markdown",
      "source": [
        "The columns in the test data that had missing values are Age, Fare, Cabin."
      ],
      "metadata": {
        "id": "gJ53cIUqLSNp"
      }
    },
    {
      "cell_type": "markdown",
      "metadata": {
        "id": "p-XM-28J3tK3"
      },
      "source": [
        "#### 21.  First drop all missing values and check the counts for missing value again"
      ]
    },
    {
      "cell_type": "markdown",
      "metadata": {
        "id": "GHFQhzM03tK4"
      },
      "source": [
        "**Remember** Do not run the code on dropping all missing values the second time"
      ]
    },
    {
      "cell_type": "markdown",
      "metadata": {
        "id": "6i0vcqJI3tK4"
      },
      "source": [
        "#### 22.  Reload the data and drop the missing values in age with the mean\n"
      ]
    },
    {
      "cell_type": "markdown",
      "metadata": {
        "id": "SBBxcpwC3tK4"
      },
      "source": [
        "#### 23. Drop the missing values with the Embarked with the mode\n"
      ]
    },
    {
      "cell_type": "markdown",
      "metadata": {
        "id": "3ijUp6cS3tK5"
      },
      "source": [
        "#### 24. Merge the two dataframes and called it df.Check to the number of rows and columns and number of missing values"
      ]
    },
    {
      "cell_type": "code",
      "execution_count": null,
      "metadata": {
        "id": "L9hGG4AZ3tK6"
      },
      "outputs": [],
      "source": [
        "#import pandas as pd\n",
        "#df = pd.read_csv(\"file path of the csv file\")\n",
        "#"
      ]
    }
  ],
  "metadata": {
    "kernelspec": {
      "display_name": "Python 3 (ipykernel)",
      "language": "python",
      "name": "python3"
    },
    "language_info": {
      "codemirror_mode": {
        "name": "ipython",
        "version": 3
      },
      "file_extension": ".py",
      "mimetype": "text/x-python",
      "name": "python",
      "nbconvert_exporter": "python",
      "pygments_lexer": "ipython3",
      "version": "3.10.5"
    },
    "varInspector": {
      "cols": {
        "lenName": 16,
        "lenType": 16,
        "lenVar": 40
      },
      "kernels_config": {
        "python": {
          "delete_cmd_postfix": "",
          "delete_cmd_prefix": "del ",
          "library": "var_list.py",
          "varRefreshCmd": "print(var_dic_list())"
        },
        "r": {
          "delete_cmd_postfix": ") ",
          "delete_cmd_prefix": "rm(",
          "library": "var_list.r",
          "varRefreshCmd": "cat(var_dic_list()) "
        }
      },
      "types_to_exclude": [
        "module",
        "function",
        "builtin_function_or_method",
        "instance",
        "_Feature"
      ],
      "window_display": false
    },
    "colab": {
      "provenance": []
    }
  },
  "nbformat": 4,
  "nbformat_minor": 0
}