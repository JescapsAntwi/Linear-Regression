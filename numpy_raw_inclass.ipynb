{
 "cells": [
  {
   "cell_type": "markdown",
   "id": "83160260-0418-436d-953e-383913c2877c",
   "metadata": {},
   "source": [
    "### Why Numpy?"
   ]
  },
  {
   "cell_type": "code",
   "execution_count": 1,
   "id": "6b58a94a-0927-4790-a2e9-ae5c6889f769",
   "metadata": {},
   "outputs": [],
   "source": [
    "#import relevant libraries\n",
    "import numpy as np\n",
    "import time"
   ]
  },
  {
   "cell_type": "markdown",
   "id": "db07744b-d623-4b16-8a94-a241e3546ec4",
   "metadata": {},
   "source": [
    "#### An attempt to prove that numpy is faster compared to lists by adding 2 lists and 2 arrays and measuring the speed of execution"
   ]
  },
  {
   "cell_type": "code",
   "execution_count": 2,
   "id": "04f0c55e-a430-4a88-9619-a932e4873e44",
   "metadata": {},
   "outputs": [],
   "source": [
    "#initialize size of the numbers to be added(1000000)\n",
    "size = 1000000"
   ]
  },
  {
   "cell_type": "code",
   "execution_count": 3,
   "id": "dbd057b6-4d7a-41c7-9880-0d1139953bd6",
   "metadata": {},
   "outputs": [],
   "source": [
    "#create 2 lists\n",
    "lst1 = range(size)\n",
    "lst2 = range(size)"
   ]
  },
  {
   "cell_type": "code",
   "execution_count": 4,
   "id": "16d4ceac-d043-4e94-8dee-e703abf22c2b",
   "metadata": {},
   "outputs": [],
   "source": [
    "#create 2 numpy arrays\n",
    "nparr1 = np.arange(size)\n",
    "nparr2 = np.arange(size)"
   ]
  },
  {
   "cell_type": "code",
   "execution_count": 5,
   "id": "ad238631-13d5-47de-b0ce-11a45b2a9b1a",
   "metadata": {},
   "outputs": [
    {
     "name": "stdout",
     "output_type": "stream",
     "text": [
      "sum of lists : \n",
      "270.10464668273926\n"
     ]
    }
   ],
   "source": [
    "#determine the speed of adding numbers in the 2 lists\n",
    "lst_time = time.time()\n",
    "list_sum = [(x+y) for x, y in zip(lst1, lst2)]\n",
    "print(\"sum of lists : \")\n",
    "print((time.time() - lst_time) * 1000 )"
   ]
  },
  {
   "cell_type": "code",
   "execution_count": 9,
   "id": "ce55d7ab-59df-435d-b71f-2a4e9958e91d",
   "metadata": {},
   "outputs": [
    {
     "name": "stdout",
     "output_type": "stream",
     "text": [
      "sum of nparrays\n",
      "11.456012725830078\n"
     ]
    }
   ],
   "source": [
    "#determine the speed of adding same numbers in 2 numpy arrays\n",
    "np_time = time.time()\n",
    "np_sum = nparr1 + nparr2\n",
    "print(\"sum of nparrays\")\n",
    "print((time.time() - np_time)* 1000)"
   ]
  },
  {
   "cell_type": "markdown",
   "id": "9e8f09f9-024c-475f-841c-f862c44b0d9c",
   "metadata": {},
   "source": [
    "##### creating numpy arrays - refer to the notes in NumPy1a, NumPy1b, AND NumPy1c for more "
   ]
  },
  {
   "cell_type": "code",
   "execution_count": 20,
   "id": "66e9f97f-b2bc-4faf-b822-cf89d80d11d1",
   "metadata": {},
   "outputs": [
    {
     "data": {
      "text/plain": [
       "array([1, 2, 3])"
      ]
     },
     "execution_count": 20,
     "metadata": {},
     "output_type": "execute_result"
    }
   ],
   "source": [
    "arr_a = np.array([1,2,3])\n",
    "arr_a"
   ]
  },
  {
   "cell_type": "code",
   "execution_count": 21,
   "id": "bfce8db2-bfc6-4f18-b0d7-95cb60773c88",
   "metadata": {},
   "outputs": [
    {
     "data": {
      "text/plain": [
       "numpy.ndarray"
      ]
     },
     "execution_count": 21,
     "metadata": {},
     "output_type": "execute_result"
    }
   ],
   "source": [
    "type(arr_a)"
   ]
  },
  {
   "cell_type": "code",
   "execution_count": 22,
   "id": "28c11d12-e515-48e1-820b-9f35cb2e194c",
   "metadata": {},
   "outputs": [
    {
     "data": {
      "text/plain": [
       "array([1, 2, 3, 4])"
      ]
     },
     "execution_count": 22,
     "metadata": {},
     "output_type": "execute_result"
    }
   ],
   "source": [
    "list_a = [1,2,3,4]\n",
    "list_array = np.array(list_a)\n",
    "list_array"
   ]
  },
  {
   "cell_type": "code",
   "execution_count": 24,
   "id": "97ec8718-4885-4f75-b1ba-a773d4ca12bd",
   "metadata": {},
   "outputs": [
    {
     "data": {
      "text/plain": [
       "array([0, 1, 2, 3, 4, 5, 6, 7, 8, 9])"
      ]
     },
     "execution_count": 24,
     "metadata": {},
     "output_type": "execute_result"
    }
   ],
   "source": [
    "num10 = np.arange(0,10)\n",
    "num10"
   ]
  },
  {
   "cell_type": "code",
   "execution_count": 27,
   "id": "bec99b04-d207-4598-aa5e-c7ee38fc0e31",
   "metadata": {},
   "outputs": [
    {
     "data": {
      "text/plain": [
       "array([[0.38174153, 0.34175754],\n",
       "       [0.91679287, 0.43569925]])"
      ]
     },
     "execution_count": 27,
     "metadata": {},
     "output_type": "execute_result"
    }
   ],
   "source": [
    "rand1 = np.random.random((2,2))\n",
    "rand1"
   ]
  },
  {
   "cell_type": "code",
   "execution_count": 35,
   "id": "fb333046-e52c-41d4-9aa0-567825ed2c0d",
   "metadata": {},
   "outputs": [
    {
     "data": {
      "text/plain": [
       "array([[1, 2, 3],\n",
       "       [1, 2, 3]], dtype=int32)"
      ]
     },
     "execution_count": 35,
     "metadata": {},
     "output_type": "execute_result"
    }
   ],
   "source": [
    "datatyp_arr = np.array([[1,2,3], [1,2,3]], dtype = np.int32)\n",
    "datatyp_arr"
   ]
  },
  {
   "cell_type": "code",
   "execution_count": 36,
   "id": "5aaaa6ad-0ab4-4621-947f-1c4fadf565d8",
   "metadata": {},
   "outputs": [
    {
     "data": {
      "text/plain": [
       "array([[0., 0.],\n",
       "       [0., 0.]])"
      ]
     },
     "execution_count": 36,
     "metadata": {},
     "output_type": "execute_result"
    }
   ],
   "source": [
    "npzeros = np.zeros((2,2))\n",
    "npzeros"
   ]
  },
  {
   "cell_type": "code",
   "execution_count": 37,
   "id": "5fb407be-8628-40e9-bc4b-fac9e67ecc01",
   "metadata": {},
   "outputs": [
    {
     "data": {
      "text/plain": [
       "array([[1., 1.],\n",
       "       [1., 1.],\n",
       "       [1., 1.]])"
      ]
     },
     "execution_count": 37,
     "metadata": {},
     "output_type": "execute_result"
    }
   ],
   "source": [
    "npones = np.ones((3,2))\n",
    "npones"
   ]
  },
  {
   "cell_type": "code",
   "execution_count": 38,
   "id": "ba9b332d-a226-4e4b-bb2b-274d67f53bdd",
   "metadata": {},
   "outputs": [
    {
     "data": {
      "text/plain": [
       "(3, 2)"
      ]
     },
     "execution_count": 38,
     "metadata": {},
     "output_type": "execute_result"
    }
   ],
   "source": [
    "npones.shape"
   ]
  },
  {
   "cell_type": "code",
   "execution_count": 39,
   "id": "96bbf46a-8737-404c-ad72-de29b1474353",
   "metadata": {},
   "outputs": [
    {
     "data": {
      "text/plain": [
       "6"
      ]
     },
     "execution_count": 39,
     "metadata": {},
     "output_type": "execute_result"
    }
   ],
   "source": [
    "npones.size"
   ]
  },
  {
   "cell_type": "code",
   "execution_count": 40,
   "id": "b68a9969-86e0-4406-8026-60810443aca8",
   "metadata": {},
   "outputs": [
    {
     "data": {
      "text/plain": [
       "array([[[1., 1., 1.],\n",
       "        [1., 1., 1.],\n",
       "        [1., 1., 1.]],\n",
       "\n",
       "       [[1., 1., 1.],\n",
       "        [1., 1., 1.],\n",
       "        [1., 1., 1.]],\n",
       "\n",
       "       [[1., 1., 1.],\n",
       "        [1., 1., 1.],\n",
       "        [1., 1., 1.]]])"
      ]
     },
     "execution_count": 40,
     "metadata": {},
     "output_type": "execute_result"
    }
   ],
   "source": [
    "npones3 = np.ones((3,3,3))\n",
    "npones3"
   ]
  },
  {
   "cell_type": "code",
   "execution_count": 41,
   "id": "a9b02f60-070b-40ff-88e1-3e0230edf438",
   "metadata": {},
   "outputs": [
    {
     "data": {
      "text/plain": [
       "array([[[2., 2., 2.],\n",
       "        [2., 2., 2.],\n",
       "        [2., 2., 2.]],\n",
       "\n",
       "       [[2., 2., 2.],\n",
       "        [2., 2., 2.],\n",
       "        [2., 2., 2.]],\n",
       "\n",
       "       [[2., 2., 2.],\n",
       "        [2., 2., 2.],\n",
       "        [2., 2., 2.]]])"
      ]
     },
     "execution_count": 41,
     "metadata": {},
     "output_type": "execute_result"
    }
   ],
   "source": [
    "2 * npones3"
   ]
  },
  {
   "cell_type": "code",
   "execution_count": null,
   "id": "0d6796bb-06b0-4c39-87a5-3ba8f39e6b37",
   "metadata": {},
   "outputs": [],
   "source": []
  }
 ],
 "metadata": {
  "kernelspec": {
   "display_name": "Python 3 (ipykernel)",
   "language": "python",
   "name": "python3"
  },
  "language_info": {
   "codemirror_mode": {
    "name": "ipython",
    "version": 3
   },
   "file_extension": ".py",
   "mimetype": "text/x-python",
   "name": "python",
   "nbconvert_exporter": "python",
   "pygments_lexer": "ipython3",
   "version": "3.10.5"
  }
 },
 "nbformat": 4,
 "nbformat_minor": 5
}
