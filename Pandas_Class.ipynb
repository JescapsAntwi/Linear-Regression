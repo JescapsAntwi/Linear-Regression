{
 "cells": [
  {
   "cell_type": "code",
   "execution_count": 1,
   "id": "a18b9c5c-86c3-4d16-ab01-1e88a5c27fdd",
   "metadata": {},
   "outputs": [],
   "source": [
    "#pip install pandas \n"
   ]
  },
  {
   "cell_type": "code",
   "execution_count": 2,
   "id": "0c00b670-341c-4ea3-b152-19cee340dee9",
   "metadata": {},
   "outputs": [],
   "source": [
    "import pandas as pd \n"
   ]
  },
  {
   "cell_type": "code",
   "execution_count": 3,
   "id": "fcd2956d-4078-4e59-98a1-60659ec4a55f",
   "metadata": {},
   "outputs": [
    {
     "data": {
      "text/plain": [
       "0    1.2\n",
       "1    1.4\n",
       "2    1.5\n",
       "3    1.6\n",
       "dtype: float64"
      ]
     },
     "execution_count": 3,
     "metadata": {},
     "output_type": "execute_result"
    }
   ],
   "source": [
    "#series \n",
    "#shift + tab - get documentation\n",
    "se = pd.Series([1.2, 1.4, 1.5, 1.6])\n",
    "se"
   ]
  },
  {
   "cell_type": "code",
   "execution_count": 4,
   "id": "42f093d9-38d4-4ce2-98b3-bf3ac544f4f7",
   "metadata": {},
   "outputs": [
    {
     "data": {
      "text/plain": [
       "Papa       20\n",
       "Gloria     21\n",
       "Justice    22\n",
       "Yoofi      23\n",
       "dtype: int64"
      ]
     },
     "execution_count": 4,
     "metadata": {},
     "output_type": "execute_result"
    }
   ],
   "source": [
    "names = ['Papa', 'Gloria', 'Justice', 'Yoofi']\n",
    "ages = [20, 21, 22,23]\n",
    "students = pd.Series(ages, index=names)\n",
    "students"
   ]
  },
  {
   "cell_type": "code",
   "execution_count": 5,
   "id": "cf09b4d2-dae8-47ee-86cc-75b310da41de",
   "metadata": {},
   "outputs": [
    {
     "data": {
      "text/plain": [
       "Papa       20\n",
       "Gloria     21\n",
       "Justice    22\n",
       "Yoofi      23\n",
       "dtype: int64"
      ]
     },
     "execution_count": 5,
     "metadata": {},
     "output_type": "execute_result"
    }
   ],
   "source": [
    "st_ages = {'Papa':20, 'Gloria':21,'Justice':22, 'Yoofi':23}\n",
    "st_series = pd.Series(st_ages)\n",
    "st_series"
   ]
  },
  {
   "cell_type": "code",
   "execution_count": 6,
   "id": "279f2590-ca6c-49f0-a3e8-b5471b257d05",
   "metadata": {},
   "outputs": [
    {
     "data": {
      "text/html": [
       "<div>\n",
       "<style scoped>\n",
       "    .dataframe tbody tr th:only-of-type {\n",
       "        vertical-align: middle;\n",
       "    }\n",
       "\n",
       "    .dataframe tbody tr th {\n",
       "        vertical-align: top;\n",
       "    }\n",
       "\n",
       "    .dataframe thead th {\n",
       "        text-align: right;\n",
       "    }\n",
       "</style>\n",
       "<table border=\"1\" class=\"dataframe\">\n",
       "  <thead>\n",
       "    <tr style=\"text-align: right;\">\n",
       "      <th></th>\n",
       "      <th>ages</th>\n",
       "      <th>programs</th>\n",
       "      <th>grades</th>\n",
       "    </tr>\n",
       "  </thead>\n",
       "  <tbody>\n",
       "    <tr>\n",
       "      <th>Papa</th>\n",
       "      <td>20</td>\n",
       "      <td>CSIS</td>\n",
       "      <td>90.0</td>\n",
       "    </tr>\n",
       "    <tr>\n",
       "      <th>Gloria</th>\n",
       "      <td>21</td>\n",
       "      <td>MIS</td>\n",
       "      <td>81.0</td>\n",
       "    </tr>\n",
       "    <tr>\n",
       "      <th>Justice</th>\n",
       "      <td>22</td>\n",
       "      <td>MIS</td>\n",
       "      <td>79.1</td>\n",
       "    </tr>\n",
       "    <tr>\n",
       "      <th>Yoofi</th>\n",
       "      <td>23</td>\n",
       "      <td>CSIS</td>\n",
       "      <td>94.0</td>\n",
       "    </tr>\n",
       "  </tbody>\n",
       "</table>\n",
       "</div>"
      ],
      "text/plain": [
       "         ages programs  grades\n",
       "Papa       20     CSIS    90.0\n",
       "Gloria     21      MIS    81.0\n",
       "Justice    22      MIS    79.1\n",
       "Yoofi      23     CSIS    94.0"
      ]
     },
     "execution_count": 6,
     "metadata": {},
     "output_type": "execute_result"
    }
   ],
   "source": [
    "ages = {'Papa':20, 'Gloria':21,'Justice':22, 'Yoofi':23}\n",
    "programs = {'Papa':'CSIS', 'Gloria':'MIS','Justice':'MIS', 'Yoofi':'CSIS'}\n",
    "grades = {'Papa':90, 'Gloria':81,'Justice':79.1, 'Yoofi':94}\n",
    "\n",
    "ai_grades = pd.DataFrame({'ages':ages, 'programs':programs, 'grades':grades})\n",
    "ai_grades\n",
    "\n",
    "\n",
    "\n"
   ]
  },
  {
   "cell_type": "code",
   "execution_count": 7,
   "id": "e256a61f-d51c-44d5-bc75-f842bab705b2",
   "metadata": {},
   "outputs": [
    {
     "data": {
      "text/html": [
       "<div>\n",
       "<style scoped>\n",
       "    .dataframe tbody tr th:only-of-type {\n",
       "        vertical-align: middle;\n",
       "    }\n",
       "\n",
       "    .dataframe tbody tr th {\n",
       "        vertical-align: top;\n",
       "    }\n",
       "\n",
       "    .dataframe thead th {\n",
       "        text-align: right;\n",
       "    }\n",
       "</style>\n",
       "<table border=\"1\" class=\"dataframe\">\n",
       "  <thead>\n",
       "    <tr style=\"text-align: right;\">\n",
       "      <th></th>\n",
       "      <th>ages</th>\n",
       "      <th>programs</th>\n",
       "      <th>grades</th>\n",
       "    </tr>\n",
       "  </thead>\n",
       "  <tbody>\n",
       "    <tr>\n",
       "      <th>Papa</th>\n",
       "      <td>20</td>\n",
       "      <td>CSIS</td>\n",
       "      <td>90.0</td>\n",
       "    </tr>\n",
       "    <tr>\n",
       "      <th>Gloria</th>\n",
       "      <td>21</td>\n",
       "      <td>MIS</td>\n",
       "      <td>81.0</td>\n",
       "    </tr>\n",
       "    <tr>\n",
       "      <th>Justice</th>\n",
       "      <td>22</td>\n",
       "      <td>MIS</td>\n",
       "      <td>79.1</td>\n",
       "    </tr>\n",
       "    <tr>\n",
       "      <th>Yoofi</th>\n",
       "      <td>23</td>\n",
       "      <td>CSIS</td>\n",
       "      <td>94.0</td>\n",
       "    </tr>\n",
       "  </tbody>\n",
       "</table>\n",
       "</div>"
      ],
      "text/plain": [
       "         ages programs  grades\n",
       "Papa       20     CSIS    90.0\n",
       "Gloria     21      MIS    81.0\n",
       "Justice    22      MIS    79.1\n",
       "Yoofi      23     CSIS    94.0"
      ]
     },
     "execution_count": 7,
     "metadata": {},
     "output_type": "execute_result"
    }
   ],
   "source": [
    "ai_grades.head()"
   ]
  },
  {
   "cell_type": "code",
   "execution_count": 8,
   "id": "eabfc60d-006a-4350-9ceb-99231f72b7ea",
   "metadata": {},
   "outputs": [
    {
     "data": {
      "text/html": [
       "<div>\n",
       "<style scoped>\n",
       "    .dataframe tbody tr th:only-of-type {\n",
       "        vertical-align: middle;\n",
       "    }\n",
       "\n",
       "    .dataframe tbody tr th {\n",
       "        vertical-align: top;\n",
       "    }\n",
       "\n",
       "    .dataframe thead th {\n",
       "        text-align: right;\n",
       "    }\n",
       "</style>\n",
       "<table border=\"1\" class=\"dataframe\">\n",
       "  <thead>\n",
       "    <tr style=\"text-align: right;\">\n",
       "      <th></th>\n",
       "      <th>ages</th>\n",
       "      <th>programs</th>\n",
       "      <th>grades</th>\n",
       "    </tr>\n",
       "  </thead>\n",
       "  <tbody>\n",
       "    <tr>\n",
       "      <th>Papa</th>\n",
       "      <td>20</td>\n",
       "      <td>CSIS</td>\n",
       "      <td>90.0</td>\n",
       "    </tr>\n",
       "    <tr>\n",
       "      <th>Gloria</th>\n",
       "      <td>21</td>\n",
       "      <td>MIS</td>\n",
       "      <td>81.0</td>\n",
       "    </tr>\n",
       "  </tbody>\n",
       "</table>\n",
       "</div>"
      ],
      "text/plain": [
       "        ages programs  grades\n",
       "Papa      20     CSIS    90.0\n",
       "Gloria    21      MIS    81.0"
      ]
     },
     "execution_count": 8,
     "metadata": {},
     "output_type": "execute_result"
    }
   ],
   "source": [
    "ai_grades.iloc[:2]"
   ]
  },
  {
   "cell_type": "code",
   "execution_count": 9,
   "id": "ee793ba9-a1d6-43e7-b691-cda550b09e3a",
   "metadata": {},
   "outputs": [
    {
     "data": {
      "text/html": [
       "<div>\n",
       "<style scoped>\n",
       "    .dataframe tbody tr th:only-of-type {\n",
       "        vertical-align: middle;\n",
       "    }\n",
       "\n",
       "    .dataframe tbody tr th {\n",
       "        vertical-align: top;\n",
       "    }\n",
       "\n",
       "    .dataframe thead th {\n",
       "        text-align: right;\n",
       "    }\n",
       "</style>\n",
       "<table border=\"1\" class=\"dataframe\">\n",
       "  <thead>\n",
       "    <tr style=\"text-align: right;\">\n",
       "      <th></th>\n",
       "      <th>ages</th>\n",
       "      <th>programs</th>\n",
       "      <th>grades</th>\n",
       "    </tr>\n",
       "  </thead>\n",
       "  <tbody>\n",
       "    <tr>\n",
       "      <th>Papa</th>\n",
       "      <td>20</td>\n",
       "      <td>CSIS</td>\n",
       "      <td>90.0</td>\n",
       "    </tr>\n",
       "    <tr>\n",
       "      <th>Gloria</th>\n",
       "      <td>21</td>\n",
       "      <td>MIS</td>\n",
       "      <td>81.0</td>\n",
       "    </tr>\n",
       "    <tr>\n",
       "      <th>Justice</th>\n",
       "      <td>22</td>\n",
       "      <td>MIS</td>\n",
       "      <td>79.1</td>\n",
       "    </tr>\n",
       "  </tbody>\n",
       "</table>\n",
       "</div>"
      ],
      "text/plain": [
       "         ages programs  grades\n",
       "Papa       20     CSIS    90.0\n",
       "Gloria     21      MIS    81.0\n",
       "Justice    22      MIS    79.1"
      ]
     },
     "execution_count": 9,
     "metadata": {},
     "output_type": "execute_result"
    }
   ],
   "source": [
    "ai_grades = ai_grades[ai_grades.grades<91]\n",
    "ai_grades\n"
   ]
  },
  {
   "cell_type": "code",
   "execution_count": null,
   "id": "dafa3c45-0436-4670-9c40-0064dafa7b04",
   "metadata": {},
   "outputs": [],
   "source": []
  }
 ],
 "metadata": {
  "kernelspec": {
   "display_name": "Python 3 (ipykernel)",
   "language": "python",
   "name": "python3"
  },
  "language_info": {
   "codemirror_mode": {
    "name": "ipython",
    "version": 3
   },
   "file_extension": ".py",
   "mimetype": "text/x-python",
   "name": "python",
   "nbconvert_exporter": "python",
   "pygments_lexer": "ipython3",
   "version": "3.10.5"
  }
 },
 "nbformat": 4,
 "nbformat_minor": 5
}
